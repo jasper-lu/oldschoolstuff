{
 "cells": [
  {
   "cell_type": "code",
   "execution_count": 90,
   "metadata": {},
   "outputs": [],
   "source": [
    "from keras.layers import Input, Conv2D, Lambda, merge, Dense, Dropout, Flatten,MaxPooling2D, BatchNormalization\n",
    "from keras.models import Model, Sequential\n",
    "from keras.regularizers import l2\n",
    "from keras import backend as K\n",
    "from keras.optimizers import SGD,Adam, Adadelta, RMSprop\n",
    "from keras.utils import np_utils\n",
    "from keras.losses import binary_crossentropy, categorical_crossentropy\n",
    "import os\n",
    "import pickle\n",
    "import matplotlib.pyplot as plt\n",
    "import seaborn as sns\n",
    "from sklearn.utils import shuffle\n",
    "import pdb\n",
    "from keras.datasets import mnist\n",
    "import keras.callbacks as cb"
   ]
  },
  {
   "cell_type": "code",
   "execution_count": 3,
   "metadata": {},
   "outputs": [],
   "source": [
    "class LossHistory(cb.Callback):\n",
    "    def on_train_begin(self, logs={}):\n",
    "        self.losses = []\n",
    "\n",
    "    def on_batch_end(self, batch, logs={}):\n",
    "        batch_loss = logs.get('loss')\n",
    "        self.losses.append(batch_loss)"
   ]
  },
  {
   "cell_type": "code",
   "execution_count": 4,
   "metadata": {},
   "outputs": [],
   "source": [
    "(x_train, y_train), (x_test, y_test) = mnist.load_data()\n",
    "img_rows, img_cols = 28, 28\n",
    "if K.image_data_format() == 'channels_first':\n",
    "    x_train = x_train.reshape(x_train.shape[0], 1, img_rows, img_cols)\n",
    "    x_test = x_test.reshape(x_test.shape[0], 1, img_rows, img_cols)\n",
    "    input_shape = (1, img_rows, img_cols)\n",
    "else:\n",
    "    x_train = x_train.reshape(x_train.shape[0], img_rows, img_cols, 1)\n",
    "    x_test = x_test.reshape(x_test.shape[0], img_rows, img_cols, 1)\n",
    "    input_shape = (img_rows, img_cols, 1)\n",
    "    \n",
    "\n",
    "y_train = np_utils.to_categorical(y_train, 10)\n",
    "y_test = np_utils.to_categorical(y_test, 10)"
   ]
  },
  {
   "cell_type": "code",
   "execution_count": 48,
   "metadata": {},
   "outputs": [],
   "source": [
    "def train_model(model):\n",
    "    return model.fit(x_train, y_train, epochs=20, batch_size=128,\n",
    "                callbacks=[history],\n",
    "                validation_data=(x_test, y_test))"
   ]
  },
  {
   "cell_type": "markdown",
   "metadata": {},
   "source": [
    "## Varying Conv Layers / Architecture"
   ]
  },
  {
   "cell_type": "code",
   "execution_count": 13,
   "metadata": {
    "scrolled": true
   },
   "outputs": [
    {
     "name": "stdout",
     "output_type": "stream",
     "text": [
      "Train on 60000 samples, validate on 10000 samples\n",
      "Epoch 1/20\n",
      " - 5s - loss: 2.4005 - acc: 0.6325 - val_loss: 0.4208 - val_acc: 0.8817\n",
      "Epoch 2/20\n",
      " - 5s - loss: 0.6352 - acc: 0.8074 - val_loss: 0.2947 - val_acc: 0.9167\n",
      "Epoch 3/20\n",
      " - 5s - loss: 0.4915 - acc: 0.8499 - val_loss: 0.2219 - val_acc: 0.9345\n",
      "Epoch 4/20\n",
      " - 5s - loss: 0.4246 - acc: 0.8716 - val_loss: 0.1911 - val_acc: 0.9423\n",
      "Epoch 5/20\n",
      " - 7s - loss: 0.3780 - acc: 0.8832 - val_loss: 0.1626 - val_acc: 0.9525\n",
      "Epoch 6/20\n",
      " - 5s - loss: 0.3484 - acc: 0.8942 - val_loss: 0.1625 - val_acc: 0.9497\n",
      "Epoch 7/20\n",
      " - 5s - loss: 0.3329 - acc: 0.8981 - val_loss: 0.1615 - val_acc: 0.9538\n",
      "Epoch 8/20\n",
      " - 5s - loss: 0.3212 - acc: 0.9033 - val_loss: 0.1710 - val_acc: 0.9520\n",
      "Epoch 9/20\n",
      " - 5s - loss: 0.3029 - acc: 0.9077 - val_loss: 0.1487 - val_acc: 0.9523\n",
      "Epoch 10/20\n",
      " - 5s - loss: 0.2892 - acc: 0.9123 - val_loss: 0.1354 - val_acc: 0.9584\n",
      "Epoch 11/20\n",
      " - 5s - loss: 0.2855 - acc: 0.9122 - val_loss: 0.1373 - val_acc: 0.9581\n",
      "Epoch 12/20\n",
      " - 5s - loss: 0.2757 - acc: 0.9163 - val_loss: 0.1211 - val_acc: 0.9633\n",
      "Epoch 13/20\n",
      " - 5s - loss: 0.2705 - acc: 0.9184 - val_loss: 0.1304 - val_acc: 0.9627\n",
      "Epoch 14/20\n",
      " - 5s - loss: 0.2712 - acc: 0.9183 - val_loss: 0.1296 - val_acc: 0.9602\n",
      "Epoch 15/20\n",
      " - 5s - loss: 0.2595 - acc: 0.9229 - val_loss: 0.1224 - val_acc: 0.9642\n",
      "Epoch 16/20\n",
      " - 6s - loss: 0.2564 - acc: 0.9215 - val_loss: 0.1208 - val_acc: 0.9609\n",
      "Epoch 17/20\n",
      " - 8s - loss: 0.2571 - acc: 0.9237 - val_loss: 0.1146 - val_acc: 0.9657\n",
      "Epoch 18/20\n",
      " - 7s - loss: 0.2584 - acc: 0.9240 - val_loss: 0.1186 - val_acc: 0.9633\n",
      "Epoch 19/20\n",
      " - 8s - loss: 0.2529 - acc: 0.9252 - val_loss: 0.1181 - val_acc: 0.9637\n",
      "Epoch 20/20\n",
      " - 9s - loss: 0.2499 - acc: 0.9255 - val_loss: 0.1184 - val_acc: 0.9633\n"
     ]
    }
   ],
   "source": [
    "model = Sequential()\n",
    "model.add(Conv2D(32, kernel_size=(3, 3),\n",
    "                activation='relu',\n",
    "                input_shape=(28, 28, 1), strides=(3, 3)))\n",
    "model.add(MaxPooling2D(pool_size=(2, 2)))\n",
    "model.add(Dropout(0.25))\n",
    "model.add(Flatten())\n",
    "model.add(Dense(128, activation='relu'))\n",
    "model.add(Dropout(0.5))\n",
    "model.add(Dense(10, activation='softmax'))\n",
    "\n",
    "model.compile(loss=categorical_crossentropy,\n",
    "          optimizer=Adam(),\n",
    "          metrics=['accuracy'])\n",
    "history = train_model(model)"
   ]
  },
  {
   "cell_type": "code",
   "execution_count": 18,
   "metadata": {},
   "outputs": [
    {
     "data": {
      "image/png": "[encoded data removed]",
      "text/plain": [
       "<matplotlib.figure.Figure at 0x7f2d4ba2a198>"
      ]
     },
     "metadata": {},
     "output_type": "display_data"
    }
   ],
   "source": [
    "plt.plot(history.history['loss'])\n",
    "plt.title(\"Loss over time\")\n",
    "plt.show()"
   ]
  },
  {
   "cell_type": "code",
   "execution_count": 21,
   "metadata": {},
   "outputs": [
    {
     "data": {
      "image/png": "[encoded data removed]",
      "text/plain": [
       "<matplotlib.figure.Figure at 0x7f2d4b888978>"
      ]
     },
     "metadata": {},
     "output_type": "display_data"
    }
   ],
   "source": [
    "tPlot, = plt.plot([1 - x for x in history.history['acc']])\n",
    "vPlot, = plt.plot([1 - x for x in history.history['val_acc']])\n",
    "plt.legend([tPlot, vPlot], [\"Training\", \"Test\"])\n",
    "plt.title(\"Error over time\")\n",
    "plt.show()"
   ]
  },
  {
   "cell_type": "code",
   "execution_count": 22,
   "metadata": {},
   "outputs": [
    {
     "name": "stdout",
     "output_type": "stream",
     "text": [
      "Train on 60000 samples, validate on 10000 samples\n",
      "Epoch 1/20\n",
      " - 6s - loss: 1.5374 - acc: 0.5757 - val_loss: 0.3852 - val_acc: 0.8875\n",
      "Epoch 2/20\n",
      " - 6s - loss: 0.5763 - acc: 0.8227 - val_loss: 0.2565 - val_acc: 0.9248\n",
      "Epoch 3/20\n",
      " - 6s - loss: 0.4512 - acc: 0.8628 - val_loss: 0.2122 - val_acc: 0.9405\n",
      "Epoch 4/20\n",
      " - 6s - loss: 0.3878 - acc: 0.8805 - val_loss: 0.1877 - val_acc: 0.9457\n",
      "Epoch 5/20\n",
      " - 6s - loss: 0.3564 - acc: 0.8931 - val_loss: 0.1718 - val_acc: 0.9495\n",
      "Epoch 6/20\n",
      " - 6s - loss: 0.3325 - acc: 0.8981 - val_loss: 0.1569 - val_acc: 0.9552\n",
      "Epoch 7/20\n",
      " - 6s - loss: 0.3117 - acc: 0.9046 - val_loss: 0.1571 - val_acc: 0.9524\n",
      "Epoch 8/20\n",
      " - 6s - loss: 0.3030 - acc: 0.9087 - val_loss: 0.1542 - val_acc: 0.9556\n",
      "Epoch 9/20\n",
      " - 6s - loss: 0.2840 - acc: 0.9127 - val_loss: 0.1322 - val_acc: 0.9577\n",
      "Epoch 10/20\n",
      " - 6s - loss: 0.2729 - acc: 0.9179 - val_loss: 0.1358 - val_acc: 0.9583\n",
      "Epoch 11/20\n",
      " - 7s - loss: 0.2674 - acc: 0.9181 - val_loss: 0.1343 - val_acc: 0.9600\n",
      "Epoch 12/20\n",
      " - 8s - loss: 0.2561 - acc: 0.9214 - val_loss: 0.1336 - val_acc: 0.9592\n",
      "Epoch 13/20\n",
      " - 7s - loss: 0.2524 - acc: 0.9238 - val_loss: 0.1344 - val_acc: 0.9604\n",
      "Epoch 14/20\n",
      " - 6s - loss: 0.2501 - acc: 0.9250 - val_loss: 0.1417 - val_acc: 0.9582\n",
      "Epoch 15/20\n",
      " - 6s - loss: 0.2504 - acc: 0.9241 - val_loss: 0.1242 - val_acc: 0.9640\n",
      "Epoch 16/20\n",
      " - 6s - loss: 0.2364 - acc: 0.9275 - val_loss: 0.1239 - val_acc: 0.9645\n",
      "Epoch 17/20\n",
      " - 6s - loss: 0.2384 - acc: 0.9282 - val_loss: 0.1217 - val_acc: 0.9625\n",
      "Epoch 18/20\n",
      " - 6s - loss: 0.2339 - acc: 0.9300 - val_loss: 0.1224 - val_acc: 0.9637\n",
      "Epoch 19/20\n",
      " - 6s - loss: 0.2267 - acc: 0.9321 - val_loss: 0.1203 - val_acc: 0.9639\n",
      "Epoch 20/20\n",
      " - 6s - loss: 0.2234 - acc: 0.9320 - val_loss: 0.1187 - val_acc: 0.9643\n"
     ]
    }
   ],
   "source": [
    "model = Sequential()\n",
    "model.add(Conv2D(32, kernel_size=(3, 3),\n",
    "                activation='relu',\n",
    "                input_shape=(28, 28, 1), strides=(3, 3)))\n",
    "model.add(Conv2D(32, kernel_size=(4, 4),\n",
    "                activation='relu',\n",
    "                input_shape=(28, 28, 1), strides=(4, 4)))\n",
    "model.add(MaxPooling2D(pool_size=(2, 2)))\n",
    "model.add(Dropout(0.25))\n",
    "model.add(Flatten())\n",
    "model.add(Dense(128, activation='relu'))\n",
    "model.add(Dropout(0.5))\n",
    "model.add(Dense(10, activation='softmax'))\n",
    "\n",
    "model.compile(loss=categorical_crossentropy,\n",
    "          optimizer=Adam(),\n",
    "          metrics=['accuracy'])\n",
    "history = train_model(model)"
   ]
  },
  {
   "cell_type": "code",
   "execution_count": 23,
   "metadata": {},
   "outputs": [
    {
     "data": {
      "image/png": "[encoded data removed]",
      "text/plain": [
       "<matplotlib.figure.Figure at 0x7f2d4b5c15f8>"
      ]
     },
     "metadata": {},
     "output_type": "display_data"
    }
   ],
   "source": [
    "plt.plot(history.history['loss'])\n",
    "plt.title(\"Loss over time\")\n",
    "plt.show()"
   ]
  },
  {
   "cell_type": "code",
   "execution_count": 24,
   "metadata": {},
   "outputs": [
    {
     "data": {
      "image/png": "[encoded data removed]",
      "text/plain": [
       "<matplotlib.figure.Figure at 0x7f2d4aecb7f0>"
      ]
     },
     "metadata": {},
     "output_type": "display_data"
    }
   ],
   "source": [
    "tPlot, = plt.plot([1 - x for x in history.history['acc']])\n",
    "vPlot, = plt.plot([1 - x for x in history.history['val_acc']])\n",
    "plt.legend([tPlot, vPlot], [\"Training\", \"Test\"])\n",
    "plt.title(\"Error over time\")\n",
    "plt.show()"
   ]
  },
  {
   "cell_type": "code",
   "execution_count": 40,
   "metadata": {
    "scrolled": true
   },
   "outputs": [
    {
     "name": "stdout",
     "output_type": "stream",
     "text": [
      "Train on 60000 samples, validate on 10000 samples\n",
      "Epoch 1/30\n",
      "60000/60000 [==============================] - 189s 3ms/step - loss: 7.3387 - acc: 0.5211 - val_loss: 0.1558 - val_acc: 0.9574\n",
      "Epoch 2/30\n",
      "60000/60000 [==============================] - 5415s 90ms/step - loss: 0.1945 - acc: 0.9447 - val_loss: 0.0633 - val_acc: 0.9805\n",
      "Epoch 3/30\n",
      "60000/60000 [==============================] - 202s 3ms/step - loss: 0.1131 - acc: 0.9678 - val_loss: 0.0429 - val_acc: 0.9856\n",
      "Epoch 4/30\n",
      "60000/60000 [==============================] - 216s 4ms/step - loss: 0.0911 - acc: 0.9734 - val_loss: 0.0379 - val_acc: 0.9880\n",
      "Epoch 5/30\n",
      "60000/60000 [==============================] - 234s 4ms/step - loss: 0.0709 - acc: 0.9787 - val_loss: 0.0396 - val_acc: 0.9882\n",
      "Epoch 6/30\n",
      "60000/60000 [==============================] - 228s 4ms/step - loss: 0.0646 - acc: 0.9813 - val_loss: 0.0346 - val_acc: 0.9895\n",
      "Epoch 7/30\n",
      "40576/60000 [===================>..........] - ETA: 1:10 - loss: 0.0594 - acc: 0.9820"
     ]
    },
    {
     "ename": "KeyboardInterrupt",
     "evalue": "",
     "output_type": "error",
     "traceback": [
      "\u001b[0;31m---------------------------------------------------------------------------\u001b[0m",
      "\u001b[0;31mKeyboardInterrupt\u001b[0m                         Traceback (most recent call last)",
      "\u001b[0;32m<ipython-input-40-9082b67d10a2>\u001b[0m in \u001b[0;36m<module>\u001b[0;34m()\u001b[0m\n\u001b[1;32m     17\u001b[0m           \u001b[0mepochs\u001b[0m\u001b[0;34m=\u001b[0m\u001b[0;36m30\u001b[0m\u001b[0;34m,\u001b[0m\u001b[0;34m\u001b[0m\u001b[0m\n\u001b[1;32m     18\u001b[0m           \u001b[0mverbose\u001b[0m\u001b[0;34m=\u001b[0m\u001b[0;36m1\u001b[0m\u001b[0;34m,\u001b[0m\u001b[0;34m\u001b[0m\u001b[0m\n\u001b[0;32m---> 19\u001b[0;31m           validation_data=(x_test, y_test))\n\u001b[0m",
      "\u001b[0;32m~/anaconda3/lib/python3.6/site-packages/keras/models.py\u001b[0m in \u001b[0;36mfit\u001b[0;34m(self, x, y, batch_size, epochs, verbose, callbacks, validation_split, validation_data, shuffle, class_weight, sample_weight, initial_epoch, steps_per_epoch, validation_steps, **kwargs)\u001b[0m\n\u001b[1;32m    961\u001b[0m                               \u001b[0minitial_epoch\u001b[0m\u001b[0;34m=\u001b[0m\u001b[0minitial_epoch\u001b[0m\u001b[0;34m,\u001b[0m\u001b[0;34m\u001b[0m\u001b[0m\n\u001b[1;32m    962\u001b[0m                               \u001b[0msteps_per_epoch\u001b[0m\u001b[0;34m=\u001b[0m\u001b[0msteps_per_epoch\u001b[0m\u001b[0;34m,\u001b[0m\u001b[0;34m\u001b[0m\u001b[0m\n\u001b[0;32m--> 963\u001b[0;31m                               validation_steps=validation_steps)\n\u001b[0m\u001b[1;32m    964\u001b[0m \u001b[0;34m\u001b[0m\u001b[0m\n\u001b[1;32m    965\u001b[0m     def evaluate(self, x=None, y=None,\n",
      "\u001b[0;32m~/anaconda3/lib/python3.6/site-packages/keras/engine/training.py\u001b[0m in \u001b[0;36mfit\u001b[0;34m(self, x, y, batch_size, epochs, verbose, callbacks, validation_split, validation_data, shuffle, class_weight, sample_weight, initial_epoch, steps_per_epoch, validation_steps, **kwargs)\u001b[0m\n\u001b[1;32m   1703\u001b[0m                               \u001b[0minitial_epoch\u001b[0m\u001b[0;34m=\u001b[0m\u001b[0minitial_epoch\u001b[0m\u001b[0;34m,\u001b[0m\u001b[0;34m\u001b[0m\u001b[0m\n\u001b[1;32m   1704\u001b[0m                               \u001b[0msteps_per_epoch\u001b[0m\u001b[0;34m=\u001b[0m\u001b[0msteps_per_epoch\u001b[0m\u001b[0;34m,\u001b[0m\u001b[0;34m\u001b[0m\u001b[0m\n\u001b[0;32m-> 1705\u001b[0;31m                               validation_steps=validation_steps)\n\u001b[0m\u001b[1;32m   1706\u001b[0m \u001b[0;34m\u001b[0m\u001b[0m\n\u001b[1;32m   1707\u001b[0m     def evaluate(self, x=None, y=None,\n",
      "\u001b[0;32m~/anaconda3/lib/python3.6/site-packages/keras/engine/training.py\u001b[0m in \u001b[0;36m_fit_loop\u001b[0;34m(self, f, ins, out_labels, batch_size, epochs, verbose, callbacks, val_f, val_ins, shuffle, callback_metrics, initial_epoch, steps_per_epoch, validation_steps)\u001b[0m\n\u001b[1;32m   1233\u001b[0m                         \u001b[0mins_batch\u001b[0m\u001b[0;34m[\u001b[0m\u001b[0mi\u001b[0m\u001b[0;34m]\u001b[0m \u001b[0;34m=\u001b[0m \u001b[0mins_batch\u001b[0m\u001b[0;34m[\u001b[0m\u001b[0mi\u001b[0m\u001b[0;34m]\u001b[0m\u001b[0;34m.\u001b[0m\u001b[0mtoarray\u001b[0m\u001b[0;34m(\u001b[0m\u001b[0;34m)\u001b[0m\u001b[0;34m\u001b[0m\u001b[0m\n\u001b[1;32m   1234\u001b[0m \u001b[0;34m\u001b[0m\u001b[0m\n\u001b[0;32m-> 1235\u001b[0;31m                     \u001b[0mouts\u001b[0m \u001b[0;34m=\u001b[0m \u001b[0mf\u001b[0m\u001b[0;34m(\u001b[0m\u001b[0mins_batch\u001b[0m\u001b[0;34m)\u001b[0m\u001b[0;34m\u001b[0m\u001b[0m\n\u001b[0m\u001b[1;32m   1236\u001b[0m                     \u001b[0;32mif\u001b[0m \u001b[0;32mnot\u001b[0m \u001b[0misinstance\u001b[0m\u001b[0;34m(\u001b[0m\u001b[0mouts\u001b[0m\u001b[0;34m,\u001b[0m \u001b[0mlist\u001b[0m\u001b[0;34m)\u001b[0m\u001b[0;34m:\u001b[0m\u001b[0;34m\u001b[0m\u001b[0m\n\u001b[1;32m   1237\u001b[0m                         \u001b[0mouts\u001b[0m \u001b[0;34m=\u001b[0m \u001b[0;34m[\u001b[0m\u001b[0mouts\u001b[0m\u001b[0;34m]\u001b[0m\u001b[0;34m\u001b[0m\u001b[0m\n",
      "\u001b[0;32m~/anaconda3/lib/python3.6/site-packages/keras/backend/tensorflow_backend.py\u001b[0m in \u001b[0;36m__call__\u001b[0;34m(self, inputs)\u001b[0m\n\u001b[1;32m   2476\u001b[0m         \u001b[0msession\u001b[0m \u001b[0;34m=\u001b[0m \u001b[0mget_session\u001b[0m\u001b[0;34m(\u001b[0m\u001b[0;34m)\u001b[0m\u001b[0;34m\u001b[0m\u001b[0m\n\u001b[1;32m   2477\u001b[0m         updated = session.run(fetches=fetches, feed_dict=feed_dict,\n\u001b[0;32m-> 2478\u001b[0;31m                               **self.session_kwargs)\n\u001b[0m\u001b[1;32m   2479\u001b[0m         \u001b[0;32mreturn\u001b[0m \u001b[0mupdated\u001b[0m\u001b[0;34m[\u001b[0m\u001b[0;34m:\u001b[0m\u001b[0mlen\u001b[0m\u001b[0;34m(\u001b[0m\u001b[0mself\u001b[0m\u001b[0;34m.\u001b[0m\u001b[0moutputs\u001b[0m\u001b[0;34m)\u001b[0m\u001b[0;34m]\u001b[0m\u001b[0;34m\u001b[0m\u001b[0m\n\u001b[1;32m   2480\u001b[0m \u001b[0;34m\u001b[0m\u001b[0m\n",
      "\u001b[0;32m~/anaconda3/lib/python3.6/site-packages/tensorflow/python/client/session.py\u001b[0m in \u001b[0;36mrun\u001b[0;34m(self, fetches, feed_dict, options, run_metadata)\u001b[0m\n\u001b[1;32m    903\u001b[0m     \u001b[0;32mtry\u001b[0m\u001b[0;34m:\u001b[0m\u001b[0;34m\u001b[0m\u001b[0m\n\u001b[1;32m    904\u001b[0m       result = self._run(None, fetches, feed_dict, options_ptr,\n\u001b[0;32m--> 905\u001b[0;31m                          run_metadata_ptr)\n\u001b[0m\u001b[1;32m    906\u001b[0m       \u001b[0;32mif\u001b[0m \u001b[0mrun_metadata\u001b[0m\u001b[0;34m:\u001b[0m\u001b[0;34m\u001b[0m\u001b[0m\n\u001b[1;32m    907\u001b[0m         \u001b[0mproto_data\u001b[0m \u001b[0;34m=\u001b[0m \u001b[0mtf_session\u001b[0m\u001b[0;34m.\u001b[0m\u001b[0mTF_GetBuffer\u001b[0m\u001b[0;34m(\u001b[0m\u001b[0mrun_metadata_ptr\u001b[0m\u001b[0;34m)\u001b[0m\u001b[0;34m\u001b[0m\u001b[0m\n",
      "\u001b[0;32m~/anaconda3/lib/python3.6/site-packages/tensorflow/python/client/session.py\u001b[0m in \u001b[0;36m_run\u001b[0;34m(self, handle, fetches, feed_dict, options, run_metadata)\u001b[0m\n\u001b[1;32m   1138\u001b[0m     \u001b[0;32mif\u001b[0m \u001b[0mfinal_fetches\u001b[0m \u001b[0;32mor\u001b[0m \u001b[0mfinal_targets\u001b[0m \u001b[0;32mor\u001b[0m \u001b[0;34m(\u001b[0m\u001b[0mhandle\u001b[0m \u001b[0;32mand\u001b[0m \u001b[0mfeed_dict_tensor\u001b[0m\u001b[0;34m)\u001b[0m\u001b[0;34m:\u001b[0m\u001b[0;34m\u001b[0m\u001b[0m\n\u001b[1;32m   1139\u001b[0m       results = self._do_run(handle, final_targets, final_fetches,\n\u001b[0;32m-> 1140\u001b[0;31m                              feed_dict_tensor, options, run_metadata)\n\u001b[0m\u001b[1;32m   1141\u001b[0m     \u001b[0;32melse\u001b[0m\u001b[0;34m:\u001b[0m\u001b[0;34m\u001b[0m\u001b[0m\n\u001b[1;32m   1142\u001b[0m       \u001b[0mresults\u001b[0m \u001b[0;34m=\u001b[0m \u001b[0;34m[\u001b[0m\u001b[0;34m]\u001b[0m\u001b[0;34m\u001b[0m\u001b[0m\n",
      "\u001b[0;32m~/anaconda3/lib/python3.6/site-packages/tensorflow/python/client/session.py\u001b[0m in \u001b[0;36m_do_run\u001b[0;34m(self, handle, target_list, fetch_list, feed_dict, options, run_metadata)\u001b[0m\n\u001b[1;32m   1319\u001b[0m     \u001b[0;32mif\u001b[0m \u001b[0mhandle\u001b[0m \u001b[0;32mis\u001b[0m \u001b[0;32mNone\u001b[0m\u001b[0;34m:\u001b[0m\u001b[0;34m\u001b[0m\u001b[0m\n\u001b[1;32m   1320\u001b[0m       return self._do_call(_run_fn, feeds, fetches, targets, options,\n\u001b[0;32m-> 1321\u001b[0;31m                            run_metadata)\n\u001b[0m\u001b[1;32m   1322\u001b[0m     \u001b[0;32melse\u001b[0m\u001b[0;34m:\u001b[0m\u001b[0;34m\u001b[0m\u001b[0m\n\u001b[1;32m   1323\u001b[0m       \u001b[0;32mreturn\u001b[0m \u001b[0mself\u001b[0m\u001b[0;34m.\u001b[0m\u001b[0m_do_call\u001b[0m\u001b[0;34m(\u001b[0m\u001b[0m_prun_fn\u001b[0m\u001b[0;34m,\u001b[0m \u001b[0mhandle\u001b[0m\u001b[0;34m,\u001b[0m \u001b[0mfeeds\u001b[0m\u001b[0;34m,\u001b[0m \u001b[0mfetches\u001b[0m\u001b[0;34m)\u001b[0m\u001b[0;34m\u001b[0m\u001b[0m\n",
      "\u001b[0;32m~/anaconda3/lib/python3.6/site-packages/tensorflow/python/client/session.py\u001b[0m in \u001b[0;36m_do_call\u001b[0;34m(self, fn, *args)\u001b[0m\n\u001b[1;32m   1325\u001b[0m   \u001b[0;32mdef\u001b[0m \u001b[0m_do_call\u001b[0m\u001b[0;34m(\u001b[0m\u001b[0mself\u001b[0m\u001b[0;34m,\u001b[0m \u001b[0mfn\u001b[0m\u001b[0;34m,\u001b[0m \u001b[0;34m*\u001b[0m\u001b[0margs\u001b[0m\u001b[0;34m)\u001b[0m\u001b[0;34m:\u001b[0m\u001b[0;34m\u001b[0m\u001b[0m\n\u001b[1;32m   1326\u001b[0m     \u001b[0;32mtry\u001b[0m\u001b[0;34m:\u001b[0m\u001b[0;34m\u001b[0m\u001b[0m\n\u001b[0;32m-> 1327\u001b[0;31m       \u001b[0;32mreturn\u001b[0m \u001b[0mfn\u001b[0m\u001b[0;34m(\u001b[0m\u001b[0;34m*\u001b[0m\u001b[0margs\u001b[0m\u001b[0;34m)\u001b[0m\u001b[0;34m\u001b[0m\u001b[0m\n\u001b[0m\u001b[1;32m   1328\u001b[0m     \u001b[0;32mexcept\u001b[0m \u001b[0merrors\u001b[0m\u001b[0;34m.\u001b[0m\u001b[0mOpError\u001b[0m \u001b[0;32mas\u001b[0m \u001b[0me\u001b[0m\u001b[0;34m:\u001b[0m\u001b[0;34m\u001b[0m\u001b[0m\n\u001b[1;32m   1329\u001b[0m       \u001b[0mmessage\u001b[0m \u001b[0;34m=\u001b[0m \u001b[0mcompat\u001b[0m\u001b[0;34m.\u001b[0m\u001b[0mas_text\u001b[0m\u001b[0;34m(\u001b[0m\u001b[0me\u001b[0m\u001b[0;34m.\u001b[0m\u001b[0mmessage\u001b[0m\u001b[0;34m)\u001b[0m\u001b[0;34m\u001b[0m\u001b[0m\n",
      "\u001b[0;32m~/anaconda3/lib/python3.6/site-packages/tensorflow/python/client/session.py\u001b[0m in \u001b[0;36m_run_fn\u001b[0;34m(feed_dict, fetch_list, target_list, options, run_metadata)\u001b[0m\n\u001b[1;32m   1310\u001b[0m       \u001b[0mself\u001b[0m\u001b[0;34m.\u001b[0m\u001b[0m_extend_graph\u001b[0m\u001b[0;34m(\u001b[0m\u001b[0;34m)\u001b[0m\u001b[0;34m\u001b[0m\u001b[0m\n\u001b[1;32m   1311\u001b[0m       return self._call_tf_sessionrun(\n\u001b[0;32m-> 1312\u001b[0;31m           options, feed_dict, fetch_list, target_list, run_metadata)\n\u001b[0m\u001b[1;32m   1313\u001b[0m \u001b[0;34m\u001b[0m\u001b[0m\n\u001b[1;32m   1314\u001b[0m     \u001b[0;32mdef\u001b[0m \u001b[0m_prun_fn\u001b[0m\u001b[0;34m(\u001b[0m\u001b[0mhandle\u001b[0m\u001b[0;34m,\u001b[0m \u001b[0mfeed_dict\u001b[0m\u001b[0;34m,\u001b[0m \u001b[0mfetch_list\u001b[0m\u001b[0;34m)\u001b[0m\u001b[0;34m:\u001b[0m\u001b[0;34m\u001b[0m\u001b[0m\n",
      "\u001b[0;32m~/anaconda3/lib/python3.6/site-packages/tensorflow/python/client/session.py\u001b[0m in \u001b[0;36m_call_tf_sessionrun\u001b[0;34m(self, options, feed_dict, fetch_list, target_list, run_metadata)\u001b[0m\n\u001b[1;32m   1418\u001b[0m         return tf_session.TF_Run(\n\u001b[1;32m   1419\u001b[0m             \u001b[0mself\u001b[0m\u001b[0;34m.\u001b[0m\u001b[0m_session\u001b[0m\u001b[0;34m,\u001b[0m \u001b[0moptions\u001b[0m\u001b[0;34m,\u001b[0m \u001b[0mfeed_dict\u001b[0m\u001b[0;34m,\u001b[0m \u001b[0mfetch_list\u001b[0m\u001b[0;34m,\u001b[0m \u001b[0mtarget_list\u001b[0m\u001b[0;34m,\u001b[0m\u001b[0;34m\u001b[0m\u001b[0m\n\u001b[0;32m-> 1420\u001b[0;31m             status, run_metadata)\n\u001b[0m\u001b[1;32m   1421\u001b[0m \u001b[0;34m\u001b[0m\u001b[0m\n\u001b[1;32m   1422\u001b[0m   \u001b[0;32mdef\u001b[0m \u001b[0m_call_tf_sessionprun\u001b[0m\u001b[0;34m(\u001b[0m\u001b[0mself\u001b[0m\u001b[0;34m,\u001b[0m \u001b[0mhandle\u001b[0m\u001b[0;34m,\u001b[0m \u001b[0mfeed_dict\u001b[0m\u001b[0;34m,\u001b[0m \u001b[0mfetch_list\u001b[0m\u001b[0;34m)\u001b[0m\u001b[0;34m:\u001b[0m\u001b[0;34m\u001b[0m\u001b[0m\n",
      "\u001b[0;31mKeyboardInterrupt\u001b[0m: "
     ]
    }
   ],
   "source": [
    "model2 = Sequential()\n",
    "model2.add(Conv2D(32, kernel_size=(3, 3),\n",
    "                 activation='relu',\n",
    "                 input_shape=input_shape))\n",
    "model2.add(Conv2D(64, (3, 3), activation='relu'))\n",
    "model2.add(MaxPooling2D(pool_size=(2, 2)))\n",
    "model2.add(Dropout(0.25))\n",
    "model2.add(Flatten())\n",
    "model2.add(Dense(128, activation='relu'))\n",
    "model2.add(Dropout(0.5))\n",
    "model2.add(Dense(10, activation='softmax'))\n",
    "model2.compile(loss=categorical_crossentropy,\n",
    "          optimizer=Adam(0.001),\n",
    "          metrics=['accuracy'])\n",
    "model2.fit(x_train, y_train,\n",
    "          batch_size=128,\n",
    "          epochs=30,\n",
    "          verbose=1,\n",
    "          validation_data=(x_test, y_test))"
   ]
  },
  {
   "cell_type": "markdown",
   "metadata": {},
   "source": [
    "I cut the above convolutional neural network run short because we achieved a validation accuracy of ~99% incredibly fast. I did not see any more of a need to continue running.\n",
    "\n",
    "What I find cool about using these convolutional neural networks is that we get pretty good performance pretty fast using them. I know that using Adam on the \"classify if the number is a 5 or not\" problem, we achieve about 98% validation accuracy pretty quickly.\n",
    "\n",
    "Using convolutional neural networks, we achieve pretty similar performance pretty quickly, but on a much harder classification problem.\n",
    "\n",
    "Also, at the same time that decreasing stride length gets us much better performance, it definitely takes us much longer to train our algorithm. This is because switching from a stride length of (5,5) to (1,1) for our (5,5) convolutional filter gives us more than 10x the amount of features to use in our maxpool layer, which means we have many more features to process. For example, our most recent model has 1,199,882 parameters, whereas our first CNN has only 22,250 parameters in total. However, the smaller stride helps us detect features that might have been skipped over had we used a higher stride. This is probalby why a smaller stride allows us to achieve much better accuracy on the problem."
   ]
  },
  {
   "cell_type": "code",
   "execution_count": 46,
   "metadata": {},
   "outputs": [
    {
     "name": "stdout",
     "output_type": "stream",
     "text": [
      "High stride has 22250 parameters\n",
      "Low stride has 1199882 parameters\n"
     ]
    }
   ],
   "source": [
    "print(\"High stride has\", model.count_params(), \"parameters\")\n",
    "print(\"Low stride has\", model2.count_params(), \"parameters\")"
   ]
  },
  {
   "cell_type": "markdown",
   "metadata": {},
   "source": [
    "## Varying Learning Rates"
   ]
  },
  {
   "cell_type": "markdown",
   "metadata": {},
   "source": [
    "The below experiments were run using a suboptimal choice of stride because I wanted a network I could train quickly enough to actually study the effect of hyperparameters, rather than having to wait for training all the time."
   ]
  },
  {
   "cell_type": "code",
   "execution_count": 53,
   "metadata": {},
   "outputs": [
    {
     "name": "stdout",
     "output_type": "stream",
     "text": [
      "Train on 60000 samples, validate on 10000 samples\n",
      "Epoch 1/20\n",
      "60000/60000 [==============================] - 6s 93us/step - loss: 1.9500 - acc: 0.4794 - val_loss: 0.6259 - val_acc: 0.8343\n",
      "Epoch 2/20\n",
      "60000/60000 [==============================] - 5s 79us/step - loss: 0.8002 - acc: 0.7589 - val_loss: 0.3428 - val_acc: 0.9078\n",
      "Epoch 3/20\n",
      "60000/60000 [==============================] - 5s 79us/step - loss: 0.5745 - acc: 0.8261 - val_loss: 0.2629 - val_acc: 0.9267\n",
      "Epoch 4/20\n",
      "60000/60000 [==============================] - 5s 78us/step - loss: 0.4733 - acc: 0.8563 - val_loss: 0.2189 - val_acc: 0.9375\n",
      "Epoch 5/20\n",
      "60000/60000 [==============================] - 5s 85us/step - loss: 0.4139 - acc: 0.8742 - val_loss: 0.2013 - val_acc: 0.9414\n",
      "Epoch 6/20\n",
      "60000/60000 [==============================] - 6s 94us/step - loss: 0.3744 - acc: 0.8864 - val_loss: 0.1863 - val_acc: 0.9445\n",
      "Epoch 7/20\n",
      "60000/60000 [==============================] - 5s 85us/step - loss: 0.3450 - acc: 0.8951 - val_loss: 0.1738 - val_acc: 0.9484\n",
      "Epoch 8/20\n",
      "60000/60000 [==============================] - 5s 88us/step - loss: 0.3281 - acc: 0.9001 - val_loss: 0.1528 - val_acc: 0.9559\n",
      "Epoch 9/20\n",
      "60000/60000 [==============================] - 5s 86us/step - loss: 0.3075 - acc: 0.9073 - val_loss: 0.1534 - val_acc: 0.9552\n",
      "Epoch 10/20\n",
      "60000/60000 [==============================] - 5s 86us/step - loss: 0.2948 - acc: 0.9099 - val_loss: 0.1433 - val_acc: 0.9569\n",
      "Epoch 11/20\n",
      "60000/60000 [==============================] - 6s 92us/step - loss: 0.2812 - acc: 0.9148 - val_loss: 0.1404 - val_acc: 0.9579\n",
      "Epoch 12/20\n",
      "60000/60000 [==============================] - 5s 86us/step - loss: 0.2696 - acc: 0.9173 - val_loss: 0.1385 - val_acc: 0.9590\n",
      "Epoch 13/20\n",
      "60000/60000 [==============================] - 5s 90us/step - loss: 0.2670 - acc: 0.9191 - val_loss: 0.1369 - val_acc: 0.9606\n",
      "Epoch 14/20\n",
      "60000/60000 [==============================] - 5s 91us/step - loss: 0.2578 - acc: 0.9208 - val_loss: 0.1295 - val_acc: 0.9608\n",
      "Epoch 15/20\n",
      "60000/60000 [==============================] - 5s 87us/step - loss: 0.2508 - acc: 0.9237 - val_loss: 0.1264 - val_acc: 0.9633\n",
      "Epoch 16/20\n",
      "60000/60000 [==============================] - 5s 85us/step - loss: 0.2471 - acc: 0.9253 - val_loss: 0.1314 - val_acc: 0.9605\n",
      "Epoch 17/20\n",
      "60000/60000 [==============================] - 5s 88us/step - loss: 0.2403 - acc: 0.9264 - val_loss: 0.1254 - val_acc: 0.9647\n",
      "Epoch 18/20\n",
      "60000/60000 [==============================] - 5s 86us/step - loss: 0.2316 - acc: 0.9288 - val_loss: 0.1165 - val_acc: 0.9636\n",
      "Epoch 19/20\n",
      "60000/60000 [==============================] - 6s 95us/step - loss: 0.2288 - acc: 0.9301 - val_loss: 0.1167 - val_acc: 0.9658\n",
      "Epoch 20/20\n",
      "60000/60000 [==============================] - 5s 89us/step - loss: 0.2294 - acc: 0.9314 - val_loss: 0.1269 - val_acc: 0.9634\n"
     ]
    }
   ],
   "source": [
    "model = Sequential()\n",
    "model.add(Conv2D(32, kernel_size=(3, 3),\n",
    "                activation='relu',\n",
    "                input_shape=(28, 28, 1), strides=(3, 3)))\n",
    "model.add(Conv2D(32, kernel_size=(4, 4),\n",
    "                activation='relu',\n",
    "                input_shape=(28, 28, 1), strides=(4, 4)))\n",
    "model.add(MaxPooling2D(pool_size=(2, 2)))\n",
    "model.add(Dropout(0.25))\n",
    "model.add(Flatten())\n",
    "model.add(Dense(128, activation='relu'))\n",
    "model.add(Dropout(0.5))\n",
    "model.add(Dense(10, activation='softmax'))\n",
    "\n",
    "model.compile(loss=categorical_crossentropy,\n",
    "          optimizer=Adam(0.001),\n",
    "          metrics=['accuracy'])\n",
    "history4 = train_model(model)"
   ]
  },
  {
   "cell_type": "code",
   "execution_count": 49,
   "metadata": {},
   "outputs": [
    {
     "name": "stdout",
     "output_type": "stream",
     "text": [
      "Train on 60000 samples, validate on 10000 samples\n",
      "Epoch 1/20\n",
      "60000/60000 [==============================] - 6s 99us/step - loss: 1.2476 - acc: 0.6081 - val_loss: 0.3835 - val_acc: 0.8915\n",
      "Epoch 2/20\n",
      "60000/60000 [==============================] - 5s 89us/step - loss: 0.6189 - acc: 0.8054 - val_loss: 0.3010 - val_acc: 0.9154\n",
      "Epoch 3/20\n",
      "60000/60000 [==============================] - 5s 90us/step - loss: 0.5581 - acc: 0.8279 - val_loss: 0.2667 - val_acc: 0.9249\n",
      "Epoch 4/20\n",
      "60000/60000 [==============================] - 5s 90us/step - loss: 0.5130 - acc: 0.8431 - val_loss: 0.2162 - val_acc: 0.9358\n",
      "Epoch 5/20\n",
      "60000/60000 [==============================] - 5s 89us/step - loss: 0.4999 - acc: 0.8485 - val_loss: 0.2428 - val_acc: 0.9354\n",
      "Epoch 6/20\n",
      "60000/60000 [==============================] - 5s 87us/step - loss: 0.4957 - acc: 0.8508 - val_loss: 0.2260 - val_acc: 0.9324\n",
      "Epoch 7/20\n",
      "60000/60000 [==============================] - 5s 85us/step - loss: 0.4867 - acc: 0.8538 - val_loss: 0.2401 - val_acc: 0.9348\n",
      "Epoch 8/20\n",
      "60000/60000 [==============================] - 6s 105us/step - loss: 0.4835 - acc: 0.8545 - val_loss: 0.2666 - val_acc: 0.9267\n",
      "Epoch 9/20\n",
      "60000/60000 [==============================] - 5s 82us/step - loss: 0.4875 - acc: 0.8549 - val_loss: 0.2016 - val_acc: 0.9406\n",
      "Epoch 10/20\n",
      "60000/60000 [==============================] - 6s 93us/step - loss: 0.4767 - acc: 0.8574 - val_loss: 0.2496 - val_acc: 0.9297\n",
      "Epoch 11/20\n",
      "60000/60000 [==============================] - 6s 101us/step - loss: 0.4727 - acc: 0.8616 - val_loss: 0.2191 - val_acc: 0.9368\n",
      "Epoch 12/20\n",
      "60000/60000 [==============================] - 5s 91us/step - loss: 0.4663 - acc: 0.8649 - val_loss: 0.2281 - val_acc: 0.9324\n",
      "Epoch 13/20\n",
      "60000/60000 [==============================] - 5s 81us/step - loss: 0.4644 - acc: 0.8655 - val_loss: 0.2547 - val_acc: 0.9352\n",
      "Epoch 14/20\n",
      "60000/60000 [==============================] - 5s 91us/step - loss: 0.4600 - acc: 0.8664 - val_loss: 0.2430 - val_acc: 0.9289\n",
      "Epoch 15/20\n",
      "60000/60000 [==============================] - 5s 79us/step - loss: 0.4555 - acc: 0.8691 - val_loss: 0.2018 - val_acc: 0.9373\n",
      "Epoch 16/20\n",
      "60000/60000 [==============================] - 5s 77us/step - loss: 0.4524 - acc: 0.8691 - val_loss: 0.2310 - val_acc: 0.9380\n",
      "Epoch 17/20\n",
      "60000/60000 [==============================] - 6s 96us/step - loss: 0.4571 - acc: 0.8677 - val_loss: 0.2365 - val_acc: 0.9335\n",
      "Epoch 18/20\n",
      "60000/60000 [==============================] - 6s 96us/step - loss: 0.4409 - acc: 0.8723 - val_loss: 0.2053 - val_acc: 0.9422\n",
      "Epoch 19/20\n",
      "60000/60000 [==============================] - 5s 87us/step - loss: 0.4516 - acc: 0.8693 - val_loss: 0.2189 - val_acc: 0.9395\n",
      "Epoch 20/20\n",
      "60000/60000 [==============================] - 6s 92us/step - loss: 0.4645 - acc: 0.8668 - val_loss: 0.2256 - val_acc: 0.9388\n"
     ]
    }
   ],
   "source": [
    "model = Sequential()\n",
    "model.add(Conv2D(32, kernel_size=(3, 3),\n",
    "                activation='relu',\n",
    "                input_shape=(28, 28, 1), strides=(3, 3)))\n",
    "model.add(Conv2D(32, kernel_size=(4, 4),\n",
    "                activation='relu',\n",
    "                input_shape=(28, 28, 1), strides=(4, 4)))\n",
    "model.add(MaxPooling2D(pool_size=(2, 2)))\n",
    "model.add(Dropout(0.25))\n",
    "model.add(Flatten())\n",
    "model.add(Dense(128, activation='relu'))\n",
    "model.add(Dropout(0.5))\n",
    "model.add(Dense(10, activation='softmax'))\n",
    "\n",
    "model.compile(loss=categorical_crossentropy,\n",
    "          optimizer=Adam(0.005),\n",
    "          metrics=['accuracy'])\n",
    "history = train_model(model)"
   ]
  },
  {
   "cell_type": "code",
   "execution_count": 51,
   "metadata": {},
   "outputs": [
    {
     "name": "stdout",
     "output_type": "stream",
     "text": [
      "Train on 60000 samples, validate on 10000 samples\n",
      "Epoch 1/20\n",
      "60000/60000 [==============================] - 7s 109us/step - loss: 12.8723 - acc: 0.1997 - val_loss: 14.2887 - val_acc: 0.1135\n",
      "Epoch 2/20\n",
      "60000/60000 [==============================] - 6s 92us/step - loss: 14.2255 - acc: 0.1174 - val_loss: 13.0315 - val_acc: 0.1915\n",
      "Epoch 3/20\n",
      "60000/60000 [==============================] - 6s 98us/step - loss: 13.3825 - acc: 0.1697 - val_loss: 14.2597 - val_acc: 0.1153\n",
      "Epoch 4/20\n",
      "60000/60000 [==============================] - 6s 100us/step - loss: 14.1327 - acc: 0.1232 - val_loss: 14.2839 - val_acc: 0.1138\n",
      "Epoch 5/20\n",
      "60000/60000 [==============================] - 6s 108us/step - loss: 14.1976 - acc: 0.1191 - val_loss: 14.2839 - val_acc: 0.1138\n",
      "Epoch 6/20\n",
      "60000/60000 [==============================] - 6s 108us/step - loss: 13.8789 - acc: 0.1389 - val_loss: 13.1459 - val_acc: 0.1844\n",
      "Epoch 7/20\n",
      "60000/60000 [==============================] - 7s 109us/step - loss: 13.8021 - acc: 0.1437 - val_loss: 14.0614 - val_acc: 0.1276\n",
      "Epoch 8/20\n",
      "60000/60000 [==============================] - 6s 107us/step - loss: 13.9798 - acc: 0.1327 - val_loss: 14.0614 - val_acc: 0.1276\n",
      "Epoch 9/20\n",
      "60000/60000 [==============================] - 6s 100us/step - loss: 13.9825 - acc: 0.1325 - val_loss: 14.0614 - val_acc: 0.1276\n",
      "Epoch 10/20\n",
      "60000/60000 [==============================] - 6s 101us/step - loss: 13.9876 - acc: 0.1322 - val_loss: 14.0614 - val_acc: 0.1276\n",
      "Epoch 11/20\n",
      "60000/60000 [==============================] - 6s 101us/step - loss: 13.7699 - acc: 0.1457 - val_loss: 13.1733 - val_acc: 0.1827\n",
      "Epoch 12/20\n",
      "60000/60000 [==============================] - 6s 100us/step - loss: 13.4796 - acc: 0.1637 - val_loss: 13.4167 - val_acc: 0.1676\n",
      "Epoch 13/20\n",
      "60000/60000 [==============================] - 6s 102us/step - loss: 13.5872 - acc: 0.1570 - val_loss: 13.2910 - val_acc: 0.1754\n",
      "Epoch 14/20\n",
      "60000/60000 [==============================] - 6s 104us/step - loss: 13.6456 - acc: 0.1534 - val_loss: 13.2910 - val_acc: 0.1754\n",
      "Epoch 15/20\n",
      "60000/60000 [==============================] - 6s 102us/step - loss: 13.6214 - acc: 0.1549 - val_loss: 13.2910 - val_acc: 0.1754\n",
      "Epoch 16/20\n",
      "60000/60000 [==============================] - 7s 111us/step - loss: 13.6443 - acc: 0.1535 - val_loss: 13.3023 - val_acc: 0.1747\n",
      "Epoch 17/20\n",
      "60000/60000 [==============================] - 6s 104us/step - loss: 13.6459 - acc: 0.1534 - val_loss: 13.3023 - val_acc: 0.1747\n",
      "Epoch 18/20\n",
      "60000/60000 [==============================] - 6s 106us/step - loss: 13.6201 - acc: 0.1550 - val_loss: 13.3377 - val_acc: 0.1725\n",
      "Epoch 19/20\n",
      "60000/60000 [==============================] - 6s 96us/step - loss: 13.6493 - acc: 0.1532 - val_loss: 13.3393 - val_acc: 0.1724\n",
      "Epoch 20/20\n",
      "60000/60000 [==============================] - 6s 97us/step - loss: 13.6530 - acc: 0.1529 - val_loss: 13.3861 - val_acc: 0.1695\n"
     ]
    }
   ],
   "source": [
    "model = Sequential()\n",
    "model.add(Conv2D(32, kernel_size=(3, 3),\n",
    "                activation='relu',\n",
    "                input_shape=(28, 28, 1), strides=(3, 3)))\n",
    "model.add(Conv2D(32, kernel_size=(4, 4),\n",
    "                activation='relu',\n",
    "                input_shape=(28, 28, 1), strides=(4, 4)))\n",
    "model.add(MaxPooling2D(pool_size=(2, 2)))\n",
    "model.add(Dropout(0.25))\n",
    "model.add(Flatten())\n",
    "model.add(Dense(128, activation='relu'))\n",
    "model.add(Dropout(0.5))\n",
    "model.add(Dense(10, activation='softmax'))\n",
    "\n",
    "model.compile(loss=categorical_crossentropy,\n",
    "          optimizer=Adam(0.01),\n",
    "          metrics=['accuracy'])\n",
    "history2 = train_model(model)"
   ]
  },
  {
   "cell_type": "code",
   "execution_count": 52,
   "metadata": {},
   "outputs": [
    {
     "name": "stdout",
     "output_type": "stream",
     "text": [
      "Train on 60000 samples, validate on 10000 samples\n",
      "Epoch 1/20\n",
      "60000/60000 [==============================] - 7s 115us/step - loss: 2.1582 - acc: 0.4064 - val_loss: 0.7820 - val_acc: 0.7715\n",
      "Epoch 2/20\n",
      "60000/60000 [==============================] - 6s 103us/step - loss: 0.9592 - acc: 0.6920 - val_loss: 0.4169 - val_acc: 0.8805\n",
      "Epoch 3/20\n",
      "60000/60000 [==============================] - 6s 97us/step - loss: 0.6443 - acc: 0.8009 - val_loss: 0.3015 - val_acc: 0.9136\n",
      "Epoch 4/20\n",
      "60000/60000 [==============================] - 7s 115us/step - loss: 0.5115 - acc: 0.8426 - val_loss: 0.2448 - val_acc: 0.9312\n",
      "Epoch 5/20\n",
      "60000/60000 [==============================] - 6s 107us/step - loss: 0.4374 - acc: 0.8660 - val_loss: 0.2104 - val_acc: 0.9373\n",
      "Epoch 6/20\n",
      "60000/60000 [==============================] - 6s 108us/step - loss: 0.3870 - acc: 0.8818 - val_loss: 0.1971 - val_acc: 0.9446\n",
      "Epoch 7/20\n",
      "60000/60000 [==============================] - 6s 102us/step - loss: 0.3572 - acc: 0.8913 - val_loss: 0.1814 - val_acc: 0.9486\n",
      "Epoch 8/20\n",
      "60000/60000 [==============================] - 6s 101us/step - loss: 0.3350 - acc: 0.9000 - val_loss: 0.1648 - val_acc: 0.9530\n",
      "Epoch 9/20\n",
      "60000/60000 [==============================] - 6s 104us/step - loss: 0.3042 - acc: 0.9072 - val_loss: 0.1583 - val_acc: 0.9552\n",
      "Epoch 10/20\n",
      "60000/60000 [==============================] - 6s 108us/step - loss: 0.2952 - acc: 0.9096 - val_loss: 0.1480 - val_acc: 0.9565\n",
      "Epoch 11/20\n",
      "60000/60000 [==============================] - 7s 110us/step - loss: 0.2801 - acc: 0.9144 - val_loss: 0.1418 - val_acc: 0.9594\n",
      "Epoch 12/20\n",
      "60000/60000 [==============================] - 6s 95us/step - loss: 0.2731 - acc: 0.9164 - val_loss: 0.1437 - val_acc: 0.9577\n",
      "Epoch 13/20\n",
      "60000/60000 [==============================] - 6s 96us/step - loss: 0.2658 - acc: 0.9182 - val_loss: 0.1330 - val_acc: 0.9616\n",
      "Epoch 14/20\n",
      "60000/60000 [==============================] - 5s 88us/step - loss: 0.2565 - acc: 0.9211 - val_loss: 0.1351 - val_acc: 0.9582\n",
      "Epoch 15/20\n",
      "60000/60000 [==============================] - 5s 85us/step - loss: 0.2500 - acc: 0.9242 - val_loss: 0.1331 - val_acc: 0.9619\n",
      "Epoch 16/20\n",
      "60000/60000 [==============================] - 5s 84us/step - loss: 0.2443 - acc: 0.9258 - val_loss: 0.1303 - val_acc: 0.9608\n",
      "Epoch 17/20\n",
      "60000/60000 [==============================] - 5s 81us/step - loss: 0.2411 - acc: 0.9263 - val_loss: 0.1359 - val_acc: 0.9584\n",
      "Epoch 18/20\n",
      "60000/60000 [==============================] - 5s 81us/step - loss: 0.2335 - acc: 0.9297 - val_loss: 0.1316 - val_acc: 0.9620\n",
      "Epoch 19/20\n",
      "60000/60000 [==============================] - 5s 79us/step - loss: 0.2312 - acc: 0.9297 - val_loss: 0.1283 - val_acc: 0.9626\n",
      "Epoch 20/20\n",
      "60000/60000 [==============================] - 5s 80us/step - loss: 0.2283 - acc: 0.9301 - val_loss: 0.1262 - val_acc: 0.9613\n"
     ]
    }
   ],
   "source": [
    "model = Sequential()\n",
    "model.add(Conv2D(32, kernel_size=(3, 3),\n",
    "                activation='relu',\n",
    "                input_shape=(28, 28, 1), strides=(3, 3)))\n",
    "model.add(Conv2D(32, kernel_size=(4, 4),\n",
    "                activation='relu',\n",
    "                input_shape=(28, 28, 1), strides=(4, 4)))\n",
    "model.add(MaxPooling2D(pool_size=(2, 2)))\n",
    "model.add(Dropout(0.25))\n",
    "model.add(Flatten())\n",
    "model.add(Dense(128, activation='relu'))\n",
    "model.add(Dropout(0.5))\n",
    "model.add(Dense(10, activation='softmax'))\n",
    "\n",
    "model.compile(loss=categorical_crossentropy,\n",
    "          optimizer=Adam(0.0005),\n",
    "          metrics=['accuracy'])\n",
    "history3 = train_model(model)"
   ]
  },
  {
   "cell_type": "code",
   "execution_count": 56,
   "metadata": {},
   "outputs": [
    {
     "data": {
      "image/png": "[encoded data removed]",
      "text/plain": [
       "<matplotlib.figure.Figure at 0x7f2d17d61470>"
      ]
     },
     "metadata": {},
     "output_type": "display_data"
    }
   ],
   "source": [
    "histories = [history3, history4, history, history2]\n",
    "costs = [x.history['loss'] for x in histories]\n",
    "plots = [plt.plot(x)[0] for x in costs]\n",
    "plt.legend(plots, [0.0005, 0.001, 0.005, 0.01])\n",
    "plt.title(\"Cost over time with varying learning rates\")\n",
    "plt.show()\n",
    "plt.close()"
   ]
  },
  {
   "cell_type": "code",
   "execution_count": 58,
   "metadata": {},
   "outputs": [
    {
     "data": {
      "image/png": "[encoded data removed]",
      "text/plain": [
       "<matplotlib.figure.Figure at 0x7f2d17d08b00>"
      ]
     },
     "metadata": {},
     "output_type": "display_data"
    }
   ],
   "source": [
    "histories = [history3, history4, history]\n",
    "costs = [x.history['loss'] for x in histories]\n",
    "plots = [plt.plot(x)[0] for x in costs]\n",
    "plt.legend(plots, [0.0005, 0.001, 0.005])\n",
    "plt.title(\"Cost over time with varying learning rates\")\n",
    "plt.show()\n",
    "plt.close()"
   ]
  },
  {
   "cell_type": "markdown",
   "metadata": {},
   "source": [
    "Like with other choices of neural networks, our convolutional neural network seems to be pretty sensitive to choices of learning rate: too high a learning rate and we don't learn, although a just-right learning rate gets us to learn more quickly. For this particular problem, it seems that the default parameters for Adam work pretty well, and actually gets us the best validation accuracy. Apart from the first few iterations, all learning rate choices seem to perform pretty similarly otherwise."
   ]
  },
  {
   "cell_type": "markdown",
   "metadata": {},
   "source": [
    "## Varying Optimizer"
   ]
  },
  {
   "cell_type": "code",
   "execution_count": 81,
   "metadata": {},
   "outputs": [
    {
     "name": "stdout",
     "output_type": "stream",
     "text": [
      "Train on 60000 samples, validate on 10000 samples\n",
      "Epoch 1/20\n",
      "60000/60000 [==============================] - 7s 115us/step - loss: 1.8477 - acc: 0.5134 - val_loss: 0.5029 - val_acc: 0.8567\n",
      "Epoch 2/20\n",
      "60000/60000 [==============================] - 7s 111us/step - loss: 0.7215 - acc: 0.7738 - val_loss: 0.3206 - val_acc: 0.9049\n",
      "Epoch 3/20\n",
      "60000/60000 [==============================] - 5s 84us/step - loss: 0.5505 - acc: 0.8283 - val_loss: 0.2555 - val_acc: 0.9284\n",
      "Epoch 4/20\n",
      "60000/60000 [==============================] - 5s 80us/step - loss: 0.4535 - acc: 0.8588 - val_loss: 0.2150 - val_acc: 0.9361\n",
      "Epoch 5/20\n",
      "60000/60000 [==============================] - 7s 113us/step - loss: 0.3958 - acc: 0.8780 - val_loss: 0.1865 - val_acc: 0.9479\n",
      "Epoch 6/20\n",
      "60000/60000 [==============================] - 6s 101us/step - loss: 0.3611 - acc: 0.8897 - val_loss: 0.1761 - val_acc: 0.9501\n",
      "Epoch 7/20\n",
      "60000/60000 [==============================] - 6s 94us/step - loss: 0.3319 - acc: 0.8974 - val_loss: 0.1610 - val_acc: 0.9533\n",
      "Epoch 8/20\n",
      "60000/60000 [==============================] - 6s 93us/step - loss: 0.3149 - acc: 0.9039 - val_loss: 0.1536 - val_acc: 0.9549\n",
      "Epoch 9/20\n",
      "60000/60000 [==============================] - 6s 96us/step - loss: 0.2946 - acc: 0.9098 - val_loss: 0.1475 - val_acc: 0.9569\n",
      "Epoch 10/20\n",
      "60000/60000 [==============================] - 6s 94us/step - loss: 0.2839 - acc: 0.9123 - val_loss: 0.1387 - val_acc: 0.9588\n",
      "Epoch 11/20\n",
      "60000/60000 [==============================] - 6s 97us/step - loss: 0.2733 - acc: 0.9165 - val_loss: 0.1339 - val_acc: 0.9606\n",
      "Epoch 12/20\n",
      "60000/60000 [==============================] - 6s 93us/step - loss: 0.2627 - acc: 0.9186 - val_loss: 0.1368 - val_acc: 0.9593\n",
      "Epoch 13/20\n",
      "60000/60000 [==============================] - 6s 95us/step - loss: 0.2595 - acc: 0.9200 - val_loss: 0.1301 - val_acc: 0.9617\n",
      "Epoch 14/20\n",
      "60000/60000 [==============================] - 6s 94us/step - loss: 0.2494 - acc: 0.9239 - val_loss: 0.1268 - val_acc: 0.9636\n",
      "Epoch 15/20\n",
      "60000/60000 [==============================] - 6s 94us/step - loss: 0.2416 - acc: 0.9246 - val_loss: 0.1201 - val_acc: 0.9659\n",
      "Epoch 16/20\n",
      "60000/60000 [==============================] - 6s 94us/step - loss: 0.2373 - acc: 0.9264 - val_loss: 0.1221 - val_acc: 0.9653\n",
      "Epoch 17/20\n",
      "60000/60000 [==============================] - 6s 94us/step - loss: 0.2348 - acc: 0.9292 - val_loss: 0.1194 - val_acc: 0.9650\n",
      "Epoch 18/20\n",
      "60000/60000 [==============================] - 6s 94us/step - loss: 0.2292 - acc: 0.9288 - val_loss: 0.1189 - val_acc: 0.9661\n",
      "Epoch 19/20\n",
      "60000/60000 [==============================] - 6s 98us/step - loss: 0.2230 - acc: 0.9313 - val_loss: 0.1162 - val_acc: 0.9657\n",
      "Epoch 20/20\n",
      "60000/60000 [==============================] - 7s 109us/step - loss: 0.2200 - acc: 0.9312 - val_loss: 0.1113 - val_acc: 0.9667\n"
     ]
    }
   ],
   "source": [
    "model = Sequential()\n",
    "model.add(Conv2D(32, kernel_size=(3, 3),\n",
    "                activation='relu',\n",
    "                input_shape=(28, 28, 1), strides=(3, 3)))\n",
    "model.add(Conv2D(32, kernel_size=(4, 4),\n",
    "                activation='relu',\n",
    "                input_shape=(28, 28, 1), strides=(4, 4)))\n",
    "model.add(MaxPooling2D(pool_size=(2, 2)))\n",
    "model.add(Dropout(0.25))\n",
    "model.add(Flatten())\n",
    "model.add(Dense(128, activation='relu'))\n",
    "model.add(Dropout(0.5))\n",
    "model.add(Dense(10, activation='softmax'))\n",
    "\n",
    "model.compile(loss=categorical_crossentropy,\n",
    "          optimizer=Adam(),\n",
    "          metrics=['accuracy'])\n",
    "history = train_model(model)"
   ]
  },
  {
   "cell_type": "code",
   "execution_count": 66,
   "metadata": {},
   "outputs": [
    {
     "name": "stdout",
     "output_type": "stream",
     "text": [
      "Train on 60000 samples, validate on 10000 samples\n",
      "Epoch 1/20\n",
      "60000/60000 [==============================] - 7s 111us/step - loss: 1.6941 - acc: 0.5143 - val_loss: 0.5394 - val_acc: 0.8410\n",
      "Epoch 2/20\n",
      "60000/60000 [==============================] - 5s 76us/step - loss: 0.8170 - acc: 0.7413 - val_loss: 0.3914 - val_acc: 0.8905\n",
      "Epoch 3/20\n",
      "60000/60000 [==============================] - 5s 75us/step - loss: 0.6374 - acc: 0.8022 - val_loss: 0.3103 - val_acc: 0.9106\n",
      "Epoch 4/20\n",
      "60000/60000 [==============================] - 5s 76us/step - loss: 0.5332 - acc: 0.8360 - val_loss: 0.2708 - val_acc: 0.9201\n",
      "Epoch 5/20\n",
      "60000/60000 [==============================] - 5s 80us/step - loss: 0.4787 - acc: 0.8543 - val_loss: 0.2374 - val_acc: 0.9316\n",
      "Epoch 6/20\n",
      "60000/60000 [==============================] - 6s 97us/step - loss: 0.4368 - acc: 0.8666 - val_loss: 0.2343 - val_acc: 0.9283\n",
      "Epoch 7/20\n",
      "60000/60000 [==============================] - 5s 84us/step - loss: 0.4178 - acc: 0.8732 - val_loss: 0.2306 - val_acc: 0.9351\n",
      "Epoch 8/20\n",
      "60000/60000 [==============================] - 5s 82us/step - loss: 0.3939 - acc: 0.8801 - val_loss: 0.2009 - val_acc: 0.9398\n",
      "Epoch 9/20\n",
      "60000/60000 [==============================] - 5s 87us/step - loss: 0.3759 - acc: 0.8856 - val_loss: 0.1937 - val_acc: 0.9438\n",
      "Epoch 10/20\n",
      "60000/60000 [==============================] - 5s 87us/step - loss: 0.3597 - acc: 0.8907 - val_loss: 0.1823 - val_acc: 0.9470\n",
      "Epoch 11/20\n",
      "60000/60000 [==============================] - 5s 86us/step - loss: 0.3440 - acc: 0.8954 - val_loss: 0.1840 - val_acc: 0.9460\n",
      "Epoch 12/20\n",
      "60000/60000 [==============================] - 5s 87us/step - loss: 0.3299 - acc: 0.9000 - val_loss: 0.1699 - val_acc: 0.9483\n",
      "Epoch 13/20\n",
      "60000/60000 [==============================] - 5s 82us/step - loss: 0.3197 - acc: 0.9031 - val_loss: 0.1606 - val_acc: 0.9523\n",
      "Epoch 14/20\n",
      "60000/60000 [==============================] - 6s 98us/step - loss: 0.3033 - acc: 0.9097 - val_loss: 0.1603 - val_acc: 0.9524\n",
      "Epoch 15/20\n",
      "60000/60000 [==============================] - 6s 99us/step - loss: 0.2963 - acc: 0.9102 - val_loss: 0.1516 - val_acc: 0.9552\n",
      "Epoch 16/20\n",
      "60000/60000 [==============================] - 6s 95us/step - loss: 0.2835 - acc: 0.9147 - val_loss: 0.1435 - val_acc: 0.9572\n",
      "Epoch 17/20\n",
      "60000/60000 [==============================] - 6s 92us/step - loss: 0.2740 - acc: 0.9179 - val_loss: 0.1435 - val_acc: 0.9564\n",
      "Epoch 18/20\n",
      "60000/60000 [==============================] - 6s 97us/step - loss: 0.2737 - acc: 0.9172 - val_loss: 0.1348 - val_acc: 0.9607\n",
      "Epoch 19/20\n",
      "60000/60000 [==============================] - 5s 83us/step - loss: 0.2673 - acc: 0.9210 - val_loss: 0.1386 - val_acc: 0.9594\n",
      "Epoch 20/20\n",
      "60000/60000 [==============================] - 5s 86us/step - loss: 0.2615 - acc: 0.9204 - val_loss: 0.1314 - val_acc: 0.9604\n"
     ]
    }
   ],
   "source": [
    "model = Sequential()\n",
    "model.add(Conv2D(32, kernel_size=(3, 3),\n",
    "                activation='relu',\n",
    "                input_shape=(28, 28, 1), strides=(3, 3)))\n",
    "model.add(Conv2D(32, kernel_size=(4, 4),\n",
    "                activation='relu',\n",
    "                input_shape=(28, 28, 1), strides=(4, 4)))\n",
    "model.add(MaxPooling2D(pool_size=(2, 2)))\n",
    "model.add(Dropout(0.25))\n",
    "model.add(Flatten())\n",
    "model.add(Dense(128, activation='relu'))\n",
    "model.add(Dropout(0.5))\n",
    "model.add(Dense(10, activation='softmax'))\n",
    "\n",
    "model.compile(loss=categorical_crossentropy,\n",
    "          optimizer=Adadelta(),\n",
    "          metrics=['accuracy'])\n",
    "history2 = train_model(model)"
   ]
  },
  {
   "cell_type": "code",
   "execution_count": 68,
   "metadata": {},
   "outputs": [
    {
     "name": "stdout",
     "output_type": "stream",
     "text": [
      "Train on 60000 samples, validate on 10000 samples\n",
      "Epoch 1/20\n",
      "60000/60000 [==============================] - 7s 120us/step - loss: 1.4479 - acc: 0.6172 - val_loss: 0.4714 - val_acc: 0.8623\n",
      "Epoch 2/20\n",
      "60000/60000 [==============================] - 6s 107us/step - loss: 0.6337 - acc: 0.8116 - val_loss: 0.2909 - val_acc: 0.9164\n",
      "Epoch 3/20\n",
      "60000/60000 [==============================] - 6s 105us/step - loss: 0.4973 - acc: 0.8511 - val_loss: 0.2245 - val_acc: 0.9363\n",
      "Epoch 4/20\n",
      "60000/60000 [==============================] - 6s 107us/step - loss: 0.4273 - acc: 0.8741 - val_loss: 0.2022 - val_acc: 0.9407\n",
      "Epoch 5/20\n",
      "60000/60000 [==============================] - 6s 108us/step - loss: 0.3892 - acc: 0.8838 - val_loss: 0.1922 - val_acc: 0.9438\n",
      "Epoch 6/20\n",
      "60000/60000 [==============================] - 7s 113us/step - loss: 0.3695 - acc: 0.8912 - val_loss: 0.1939 - val_acc: 0.9444\n",
      "Epoch 7/20\n",
      "60000/60000 [==============================] - 7s 118us/step - loss: 0.3509 - acc: 0.8982 - val_loss: 0.1829 - val_acc: 0.9475\n",
      "Epoch 8/20\n",
      "60000/60000 [==============================] - 7s 111us/step - loss: 0.3393 - acc: 0.9017 - val_loss: 0.1680 - val_acc: 0.9517\n",
      "Epoch 9/20\n",
      "60000/60000 [==============================] - 7s 116us/step - loss: 0.3265 - acc: 0.9046 - val_loss: 0.1657 - val_acc: 0.9524\n",
      "Epoch 10/20\n",
      "60000/60000 [==============================] - 6s 95us/step - loss: 0.3207 - acc: 0.9071 - val_loss: 0.1625 - val_acc: 0.9533\n",
      "Epoch 11/20\n",
      "60000/60000 [==============================] - 6s 93us/step - loss: 0.3070 - acc: 0.9113 - val_loss: 0.1584 - val_acc: 0.9531\n",
      "Epoch 12/20\n",
      "60000/60000 [==============================] - 6s 101us/step - loss: 0.2963 - acc: 0.9141 - val_loss: 0.1557 - val_acc: 0.9513\n",
      "Epoch 13/20\n",
      "60000/60000 [==============================] - 6s 100us/step - loss: 0.2939 - acc: 0.9148 - val_loss: 0.1605 - val_acc: 0.9533\n",
      "Epoch 14/20\n",
      "60000/60000 [==============================] - 6s 96us/step - loss: 0.2943 - acc: 0.9147 - val_loss: 0.1474 - val_acc: 0.9564\n",
      "Epoch 15/20\n",
      "60000/60000 [==============================] - 6s 103us/step - loss: 0.2953 - acc: 0.9144 - val_loss: 0.1500 - val_acc: 0.9560\n",
      "Epoch 16/20\n",
      "60000/60000 [==============================] - 6s 99us/step - loss: 0.2872 - acc: 0.9168 - val_loss: 0.1451 - val_acc: 0.9598\n",
      "Epoch 17/20\n",
      "60000/60000 [==============================] - 6s 108us/step - loss: 0.2849 - acc: 0.9169 - val_loss: 0.1340 - val_acc: 0.9604\n",
      "Epoch 18/20\n",
      "60000/60000 [==============================] - 7s 111us/step - loss: 0.2822 - acc: 0.9187 - val_loss: 0.1534 - val_acc: 0.9553\n",
      "Epoch 19/20\n",
      "60000/60000 [==============================] - 7s 114us/step - loss: 0.2795 - acc: 0.9186 - val_loss: 0.1490 - val_acc: 0.9560\n",
      "Epoch 20/20\n",
      "60000/60000 [==============================] - 7s 115us/step - loss: 0.2821 - acc: 0.9194 - val_loss: 0.1473 - val_acc: 0.9590\n"
     ]
    }
   ],
   "source": [
    "model = Sequential()\n",
    "model.add(Conv2D(32, kernel_size=(3, 3),\n",
    "                activation='relu',\n",
    "                input_shape=(28, 28, 1), strides=(3, 3)))\n",
    "model.add(Conv2D(32, kernel_size=(4, 4),\n",
    "                activation='relu',\n",
    "                input_shape=(28, 28, 1), strides=(4, 4)))\n",
    "model.add(MaxPooling2D(pool_size=(2, 2)))\n",
    "model.add(Dropout(0.25))\n",
    "model.add(Flatten())\n",
    "model.add(Dense(128, activation='relu'))\n",
    "model.add(Dropout(0.5))\n",
    "model.add(Dense(10, activation='softmax'))\n",
    "\n",
    "model.compile(loss=categorical_crossentropy,\n",
    "          optimizer=RMSprop(),\n",
    "          metrics=['accuracy'])\n",
    "history3 = train_model(model)"
   ]
  },
  {
   "cell_type": "code",
   "execution_count": 83,
   "metadata": {},
   "outputs": [
    {
     "data": {
      "image/png": "[encoded data removed]",
      "text/plain": [
       "<matplotlib.figure.Figure at 0x7f2d1364ee48>"
      ]
     },
     "metadata": {},
     "output_type": "display_data"
    }
   ],
   "source": [
    "histories = [history, history2, history3]\n",
    "costs = [x.history['loss'] for x in histories]\n",
    "plots = [plt.plot(x)[0] for x in costs]\n",
    "plt.legend(plots, [\"Adam\", \"Adadelta\", \"RMSprop\"])\n",
    "plt.title(\"Cost over time with varying optimizer choice\")\n",
    "plt.show()\n",
    "plt.close()"
   ]
  },
  {
   "cell_type": "code",
   "execution_count": 84,
   "metadata": {},
   "outputs": [
    {
     "data": {
      "image/png": "[encoded data removed]",
      "text/plain": [
       "<matplotlib.figure.Figure at 0x7f2d11b74be0>"
      ]
     },
     "metadata": {},
     "output_type": "display_data"
    }
   ],
   "source": [
    "histories = [history, history2, history3]\n",
    "costs = [x.history['acc'] for x in histories]\n",
    "plots = [plt.plot(x)[0] for x in costs]\n",
    "plt.legend(plots, [\"Adam\", \"Adadelta\", \"RMSprop\"])\n",
    "plt.title(\"Training accueracy over time with varying optimizer choice\")\n",
    "plt.show()\n",
    "plt.close()"
   ]
  },
  {
   "cell_type": "markdown",
   "metadata": {},
   "source": [
    "As could probably have been expected, Adam is the best optimizer on our data. This could probably have been expected, since Adam is essentially an \"improvement\" on the other optimization methods we are experimenting wth. It does seem that Adam and RMSprop go down more quickly than does Adadelta, although Adadelta does overtake RMSprop given more iterations. None of the three methods really ever run into local minima or saddlepoints, although this may be due to the problem or architectures and not really due to the choice of optimization algorithm itself."
   ]
  },
  {
   "cell_type": "markdown",
   "metadata": {},
   "source": [
    "## Varying Normalization Method"
   ]
  },
  {
   "cell_type": "markdown",
   "metadata": {},
   "source": [
    "### Just Dropout - 92.71/95.92 train/val accuracy"
   ]
  },
  {
   "cell_type": "code",
   "execution_count": 88,
   "metadata": {},
   "outputs": [
    {
     "name": "stdout",
     "output_type": "stream",
     "text": [
      "Train on 60000 samples, validate on 10000 samples\n",
      "Epoch 1/20\n",
      "60000/60000 [==============================] - 7s 110us/step - loss: 1.9913 - acc: 0.4913 - val_loss: 0.5871 - val_acc: 0.8423\n",
      "Epoch 2/20\n",
      "60000/60000 [==============================] - 8s 129us/step - loss: 0.7770 - acc: 0.7572 - val_loss: 0.3705 - val_acc: 0.8997\n",
      "Epoch 3/20\n",
      "60000/60000 [==============================] - 5s 88us/step - loss: 0.5799 - acc: 0.8201 - val_loss: 0.2856 - val_acc: 0.9188\n",
      "Epoch 4/20\n",
      "60000/60000 [==============================] - 7s 112us/step - loss: 0.4880 - acc: 0.8492 - val_loss: 0.2562 - val_acc: 0.9241\n",
      "Epoch 5/20\n",
      "60000/60000 [==============================] - 7s 109us/step - loss: 0.4266 - acc: 0.8679 - val_loss: 0.2241 - val_acc: 0.9297\n",
      "Epoch 6/20\n",
      "60000/60000 [==============================] - 6s 94us/step - loss: 0.3930 - acc: 0.8785 - val_loss: 0.2075 - val_acc: 0.9377\n",
      "Epoch 7/20\n",
      "60000/60000 [==============================] - 6s 103us/step - loss: 0.3603 - acc: 0.8891 - val_loss: 0.1858 - val_acc: 0.9446\n",
      "Epoch 8/20\n",
      "60000/60000 [==============================] - 6s 101us/step - loss: 0.3442 - acc: 0.8948 - val_loss: 0.1798 - val_acc: 0.9457\n",
      "Epoch 9/20\n",
      "60000/60000 [==============================] - 6s 95us/step - loss: 0.3211 - acc: 0.9020 - val_loss: 0.1593 - val_acc: 0.9499\n",
      "Epoch 10/20\n",
      "60000/60000 [==============================] - 5s 83us/step - loss: 0.3032 - acc: 0.9061 - val_loss: 0.1576 - val_acc: 0.9507\n",
      "Epoch 11/20\n",
      "60000/60000 [==============================] - 5s 90us/step - loss: 0.2886 - acc: 0.9116 - val_loss: 0.1545 - val_acc: 0.9561\n",
      "Epoch 12/20\n",
      "60000/60000 [==============================] - 5s 83us/step - loss: 0.2822 - acc: 0.9140 - val_loss: 0.1481 - val_acc: 0.9572\n",
      "Epoch 13/20\n",
      "60000/60000 [==============================] - 5s 87us/step - loss: 0.2717 - acc: 0.9163 - val_loss: 0.1457 - val_acc: 0.9572\n",
      "Epoch 14/20\n",
      "60000/60000 [==============================] - 5s 91us/step - loss: 0.2679 - acc: 0.9189 - val_loss: 0.1380 - val_acc: 0.9586\n",
      "Epoch 15/20\n",
      "60000/60000 [==============================] - 5s 89us/step - loss: 0.2585 - acc: 0.9201 - val_loss: 0.1392 - val_acc: 0.9596\n",
      "Epoch 16/20\n",
      "60000/60000 [==============================] - 6s 100us/step - loss: 0.2545 - acc: 0.9211 - val_loss: 0.1398 - val_acc: 0.9603\n",
      "Epoch 17/20\n",
      "60000/60000 [==============================] - 6s 108us/step - loss: 0.2475 - acc: 0.9240 - val_loss: 0.1298 - val_acc: 0.9614\n",
      "Epoch 18/20\n",
      "60000/60000 [==============================] - 6s 92us/step - loss: 0.2429 - acc: 0.9261 - val_loss: 0.1387 - val_acc: 0.9596\n",
      "Epoch 19/20\n",
      "60000/60000 [==============================] - 5s 83us/step - loss: 0.2432 - acc: 0.9243 - val_loss: 0.1293 - val_acc: 0.9624\n",
      "Epoch 20/20\n",
      "60000/60000 [==============================] - 5s 80us/step - loss: 0.2371 - acc: 0.9271 - val_loss: 0.1334 - val_acc: 0.9592\n"
     ]
    }
   ],
   "source": [
    "model = Sequential()\n",
    "model.add(Conv2D(32, kernel_size=(3, 3),\n",
    "                activation='relu',\n",
    "                input_shape=(28, 28, 1), strides=(3, 3)))\n",
    "model.add(Conv2D(32, kernel_size=(4, 4),\n",
    "                activation='relu',\n",
    "                input_shape=(28, 28, 1), strides=(4, 4)))\n",
    "model.add(MaxPooling2D(pool_size=(2, 2)))\n",
    "model.add(Dropout(0.25))\n",
    "model.add(Flatten())\n",
    "model.add(Dense(128, activation='relu'))\n",
    "model.add(Dropout(0.5))\n",
    "model.add(Dense(10, activation='softmax'))\n",
    "\n",
    "model.compile(loss=categorical_crossentropy,\n",
    "          optimizer=Adam(),\n",
    "          metrics=['accuracy'])\n",
    "history = train_model(model)\n"
   ]
  },
  {
   "cell_type": "markdown",
   "metadata": {},
   "source": [
    "### One batch normalization layer with L2 weight regularization - 94.88/97.21 train/val accuracy"
   ]
  },
  {
   "cell_type": "code",
   "execution_count": 91,
   "metadata": {},
   "outputs": [
    {
     "name": "stderr",
     "output_type": "stream",
     "text": [
      "/home/jasperlu/anaconda3/lib/python3.6/site-packages/ipykernel_launcher.py:14: UserWarning: Update your `Dense` call to the Keras 2 API: `Dense(10, activation=\"softmax\", kernel_regularizer=<keras.reg...)`\n",
      "  \n"
     ]
    },
    {
     "name": "stdout",
     "output_type": "stream",
     "text": [
      "Train on 60000 samples, validate on 10000 samples\n",
      "Epoch 1/20\n",
      "60000/60000 [==============================] - 7s 122us/step - loss: 1.4957 - acc: 0.7096 - val_loss: 0.5486 - val_acc: 0.9271\n",
      "Epoch 2/20\n",
      "60000/60000 [==============================] - 6s 102us/step - loss: 0.6510 - acc: 0.8818 - val_loss: 0.3977 - val_acc: 0.9490\n",
      "Epoch 3/20\n",
      "60000/60000 [==============================] - 5s 88us/step - loss: 0.5285 - acc: 0.9053 - val_loss: 0.3299 - val_acc: 0.9567\n",
      "Epoch 4/20\n",
      "60000/60000 [==============================] - 5s 83us/step - loss: 0.4479 - acc: 0.9192 - val_loss: 0.2904 - val_acc: 0.9571\n",
      "Epoch 5/20\n",
      "60000/60000 [==============================] - 5s 83us/step - loss: 0.4057 - acc: 0.9260 - val_loss: 0.2649 - val_acc: 0.9620\n",
      "Epoch 6/20\n",
      "60000/60000 [==============================] - 5s 85us/step - loss: 0.3738 - acc: 0.9297 - val_loss: 0.2435 - val_acc: 0.9638\n",
      "Epoch 7/20\n",
      "60000/60000 [==============================] - 5s 82us/step - loss: 0.3474 - acc: 0.9337 - val_loss: 0.2213 - val_acc: 0.9659\n",
      "Epoch 8/20\n",
      "60000/60000 [==============================] - 5s 85us/step - loss: 0.3272 - acc: 0.9361 - val_loss: 0.2061 - val_acc: 0.9661\n",
      "Epoch 9/20\n",
      "60000/60000 [==============================] - 5s 85us/step - loss: 0.3097 - acc: 0.9394 - val_loss: 0.1987 - val_acc: 0.9681\n",
      "Epoch 10/20\n",
      "60000/60000 [==============================] - 5s 83us/step - loss: 0.2997 - acc: 0.9379 - val_loss: 0.1884 - val_acc: 0.9683\n",
      "Epoch 11/20\n",
      "60000/60000 [==============================] - 5s 87us/step - loss: 0.2844 - acc: 0.9412 - val_loss: 0.1818 - val_acc: 0.9669\n",
      "Epoch 12/20\n",
      "60000/60000 [==============================] - 5s 89us/step - loss: 0.2777 - acc: 0.9414 - val_loss: 0.1778 - val_acc: 0.9688\n",
      "Epoch 13/20\n",
      "60000/60000 [==============================] - 5s 89us/step - loss: 0.2661 - acc: 0.9427 - val_loss: 0.1730 - val_acc: 0.9692\n",
      "Epoch 14/20\n",
      "60000/60000 [==============================] - 5s 87us/step - loss: 0.2609 - acc: 0.9427 - val_loss: 0.1644 - val_acc: 0.9701\n",
      "Epoch 15/20\n",
      "60000/60000 [==============================] - 5s 88us/step - loss: 0.2523 - acc: 0.9442 - val_loss: 0.1651 - val_acc: 0.9688\n",
      "Epoch 16/20\n",
      "60000/60000 [==============================] - 5s 92us/step - loss: 0.2480 - acc: 0.9458 - val_loss: 0.1645 - val_acc: 0.9686\n",
      "Epoch 17/20\n",
      "60000/60000 [==============================] - 6s 95us/step - loss: 0.2403 - acc: 0.9464 - val_loss: 0.1626 - val_acc: 0.9691\n",
      "Epoch 18/20\n",
      "60000/60000 [==============================] - 6s 95us/step - loss: 0.2381 - acc: 0.9466 - val_loss: 0.1508 - val_acc: 0.9701\n",
      "Epoch 19/20\n",
      "60000/60000 [==============================] - 6s 107us/step - loss: 0.2293 - acc: 0.9483 - val_loss: 0.1509 - val_acc: 0.9702\n",
      "Epoch 20/20\n",
      "60000/60000 [==============================] - 6s 106us/step - loss: 0.2261 - acc: 0.9488 - val_loss: 0.1437 - val_acc: 0.9721\n"
     ]
    }
   ],
   "source": [
    "model = Sequential()\n",
    "model.add(Conv2D(32, kernel_size=(3, 3),\n",
    "                activation='relu', \n",
    "                input_shape=(28, 28, 1), strides=(3, 3)))\n",
    "model.add(Conv2D(32, kernel_size=(4, 4),\n",
    "                activation='relu',\n",
    "                input_shape=(28, 28, 1), strides=(4, 4)))\n",
    "model.add(MaxPooling2D(pool_size=(2, 2)))\n",
    "model.add(Dropout(0.25))\n",
    "model.add(Flatten())\n",
    "model.add(Dense(128, activation='relu'))\n",
    "model.add(BatchNormalization(axis=-1))\n",
    "model.add(Dropout(0.5))\n",
    "model.add(Dense(10, activation='softmax', W_regularizer=l2(0.1)))\n",
    "\n",
    "model.compile(loss=categorical_crossentropy,\n",
    "          optimizer=Adam(),\n",
    "          metrics=['accuracy'])\n",
    "history2 = train_model(model)"
   ]
  },
  {
   "cell_type": "markdown",
   "metadata": {},
   "source": [
    "### Batch Normalization with Dropout - 96.49/97.69 train/val accuracy"
   ]
  },
  {
   "cell_type": "code",
   "execution_count": 92,
   "metadata": {},
   "outputs": [
    {
     "name": "stdout",
     "output_type": "stream",
     "text": [
      "Train on 60000 samples, validate on 10000 samples\n",
      "Epoch 1/20\n",
      "60000/60000 [==============================] - 17s 275us/step - loss: 0.8872 - acc: 0.7183 - val_loss: 0.2197 - val_acc: 0.9331\n",
      "Epoch 2/20\n",
      "60000/60000 [==============================] - 17s 276us/step - loss: 0.3470 - acc: 0.8957 - val_loss: 0.1535 - val_acc: 0.9528\n",
      "Epoch 3/20\n",
      "60000/60000 [==============================] - 18s 297us/step - loss: 0.2580 - acc: 0.9220 - val_loss: 0.1263 - val_acc: 0.9609\n",
      "Epoch 4/20\n",
      "60000/60000 [==============================] - 17s 282us/step - loss: 0.2144 - acc: 0.9351 - val_loss: 0.1104 - val_acc: 0.9659\n",
      "Epoch 5/20\n",
      "60000/60000 [==============================] - 16s 267us/step - loss: 0.1917 - acc: 0.9422 - val_loss: 0.1052 - val_acc: 0.9683\n",
      "Epoch 6/20\n",
      "60000/60000 [==============================] - 17s 277us/step - loss: 0.1739 - acc: 0.9474 - val_loss: 0.0984 - val_acc: 0.9705\n",
      "Epoch 7/20\n",
      "60000/60000 [==============================] - 17s 284us/step - loss: 0.1614 - acc: 0.9504 - val_loss: 0.0950 - val_acc: 0.9700\n",
      "Epoch 8/20\n",
      "60000/60000 [==============================] - 16s 273us/step - loss: 0.1532 - acc: 0.9523 - val_loss: 0.0884 - val_acc: 0.9738\n",
      "Epoch 9/20\n",
      "60000/60000 [==============================] - 17s 290us/step - loss: 0.1457 - acc: 0.9555 - val_loss: 0.0881 - val_acc: 0.9739\n",
      "Epoch 10/20\n",
      "60000/60000 [==============================] - 13s 210us/step - loss: 0.1415 - acc: 0.9567 - val_loss: 0.0905 - val_acc: 0.9718\n",
      "Epoch 11/20\n",
      "60000/60000 [==============================] - 12s 208us/step - loss: 0.1353 - acc: 0.9585 - val_loss: 0.0853 - val_acc: 0.9729\n",
      "Epoch 12/20\n",
      "60000/60000 [==============================] - 14s 228us/step - loss: 0.1313 - acc: 0.9591 - val_loss: 0.0871 - val_acc: 0.9736\n",
      "Epoch 13/20\n",
      "60000/60000 [==============================] - 12s 207us/step - loss: 0.1230 - acc: 0.9618 - val_loss: 0.0832 - val_acc: 0.9757\n",
      "Epoch 14/20\n",
      "60000/60000 [==============================] - 12s 206us/step - loss: 0.1220 - acc: 0.9614 - val_loss: 0.0811 - val_acc: 0.9737\n",
      "Epoch 15/20\n",
      "60000/60000 [==============================] - 14s 234us/step - loss: 0.1190 - acc: 0.9630 - val_loss: 0.0913 - val_acc: 0.9707\n",
      "Epoch 16/20\n",
      "60000/60000 [==============================] - 14s 239us/step - loss: 0.1170 - acc: 0.9635 - val_loss: 0.0782 - val_acc: 0.9772\n",
      "Epoch 17/20\n",
      "60000/60000 [==============================] - 12s 208us/step - loss: 0.1183 - acc: 0.9645 - val_loss: 0.0796 - val_acc: 0.9762\n",
      "Epoch 18/20\n",
      "60000/60000 [==============================] - 12s 206us/step - loss: 0.1159 - acc: 0.9635 - val_loss: 0.0787 - val_acc: 0.9767\n",
      "Epoch 19/20\n",
      "60000/60000 [==============================] - 16s 260us/step - loss: 0.1119 - acc: 0.9651 - val_loss: 0.0802 - val_acc: 0.9756\n",
      "Epoch 20/20\n",
      "60000/60000 [==============================] - 16s 260us/step - loss: 0.1118 - acc: 0.9649 - val_loss: 0.0763 - val_acc: 0.9769\n"
     ]
    }
   ],
   "source": [
    "model = Sequential()\n",
    "model.add(Conv2D(32, kernel_size=(3, 3),\n",
    "                activation='relu',\n",
    "                input_shape=(28, 28, 1), strides=(3, 3)))\n",
    "model.add(BatchNormalization(axis=-1))\n",
    "model.add(Conv2D(32, kernel_size=(4, 4),\n",
    "                activation='relu',\n",
    "                input_shape=(28, 28, 1), strides=(4, 4)))\n",
    "model.add(BatchNormalization(axis=-1))\n",
    "model.add(MaxPooling2D(pool_size=(2, 2)))\n",
    "model.add(Dropout(0.25))\n",
    "model.add(Flatten())\n",
    "model.add(Dense(128, activation='relu'))\n",
    "model.add(BatchNormalization(axis=-1))\n",
    "model.add(Dropout(0.5))\n",
    "model.add(Dense(10, activation='softmax'))\n",
    "\n",
    "model.compile(loss=categorical_crossentropy,\n",
    "          optimizer=Adam(),\n",
    "          metrics=['accuracy'])\n",
    "history2 = train_model(model)"
   ]
  },
  {
   "cell_type": "markdown",
   "metadata": {},
   "source": [
    "### Batch Normalization without Dropout - 99.45/97.19 train/val accuracy"
   ]
  },
  {
   "cell_type": "code",
   "execution_count": 93,
   "metadata": {},
   "outputs": [
    {
     "name": "stdout",
     "output_type": "stream",
     "text": [
      "Train on 60000 samples, validate on 10000 samples\n",
      "Epoch 1/20\n",
      "60000/60000 [==============================] - 17s 285us/step - loss: 0.3893 - acc: 0.8807 - val_loss: 0.1509 - val_acc: 0.9540\n",
      "Epoch 2/20\n",
      "60000/60000 [==============================] - 16s 265us/step - loss: 0.1263 - acc: 0.9615 - val_loss: 0.1212 - val_acc: 0.9630\n",
      "Epoch 3/20\n",
      "60000/60000 [==============================] - 16s 271us/step - loss: 0.0936 - acc: 0.9711 - val_loss: 0.0978 - val_acc: 0.9687\n",
      "Epoch 4/20\n",
      "60000/60000 [==============================] - 16s 272us/step - loss: 0.0763 - acc: 0.9763 - val_loss: 0.1098 - val_acc: 0.9644\n",
      "Epoch 5/20\n",
      "60000/60000 [==============================] - 16s 269us/step - loss: 0.0655 - acc: 0.9795 - val_loss: 0.0878 - val_acc: 0.9736\n",
      "Epoch 6/20\n",
      "60000/60000 [==============================] - 16s 272us/step - loss: 0.0544 - acc: 0.9829 - val_loss: 0.0837 - val_acc: 0.9728\n",
      "Epoch 7/20\n",
      "60000/60000 [==============================] - 17s 277us/step - loss: 0.0489 - acc: 0.9847 - val_loss: 0.0891 - val_acc: 0.9733\n",
      "Epoch 8/20\n",
      "60000/60000 [==============================] - 16s 271us/step - loss: 0.0427 - acc: 0.9863 - val_loss: 0.0848 - val_acc: 0.9736\n",
      "Epoch 9/20\n",
      "60000/60000 [==============================] - 16s 272us/step - loss: 0.0374 - acc: 0.9877 - val_loss: 0.0892 - val_acc: 0.9731\n",
      "Epoch 10/20\n",
      "60000/60000 [==============================] - 16s 270us/step - loss: 0.0332 - acc: 0.9896 - val_loss: 0.0958 - val_acc: 0.9727\n",
      "Epoch 11/20\n",
      "60000/60000 [==============================] - 16s 275us/step - loss: 0.0327 - acc: 0.9890 - val_loss: 0.0907 - val_acc: 0.9740\n",
      "Epoch 12/20\n",
      "60000/60000 [==============================] - 16s 272us/step - loss: 0.0283 - acc: 0.9906 - val_loss: 0.0883 - val_acc: 0.9762\n",
      "Epoch 13/20\n",
      "60000/60000 [==============================] - 17s 275us/step - loss: 0.0263 - acc: 0.9913 - val_loss: 0.0942 - val_acc: 0.9734\n",
      "Epoch 14/20\n",
      "60000/60000 [==============================] - 17s 280us/step - loss: 0.0230 - acc: 0.9921 - val_loss: 0.0976 - val_acc: 0.9721\n",
      "Epoch 15/20\n",
      "60000/60000 [==============================] - 17s 282us/step - loss: 0.0195 - acc: 0.9938 - val_loss: 0.0928 - val_acc: 0.9750\n",
      "Epoch 16/20\n",
      "60000/60000 [==============================] - 17s 281us/step - loss: 0.0185 - acc: 0.9942 - val_loss: 0.1012 - val_acc: 0.9722\n",
      "Epoch 17/20\n",
      "60000/60000 [==============================] - 16s 271us/step - loss: 0.0186 - acc: 0.9936 - val_loss: 0.1140 - val_acc: 0.9718\n",
      "Epoch 18/20\n",
      "60000/60000 [==============================] - 17s 279us/step - loss: 0.0185 - acc: 0.9939 - val_loss: 0.1099 - val_acc: 0.9720\n",
      "Epoch 19/20\n",
      "60000/60000 [==============================] - 25s 411us/step - loss: 0.0167 - acc: 0.9944 - val_loss: 0.1110 - val_acc: 0.9716\n",
      "Epoch 20/20\n",
      "60000/60000 [==============================] - 26s 436us/step - loss: 0.0157 - acc: 0.9945 - val_loss: 0.1127 - val_acc: 0.9719\n"
     ]
    }
   ],
   "source": [
    "model = Sequential()\n",
    "model.add(Conv2D(32, kernel_size=(3, 3),\n",
    "                activation='relu',\n",
    "                input_shape=(28, 28, 1), strides=(3, 3)))\n",
    "model.add(BatchNormalization(axis=-1))\n",
    "model.add(Conv2D(32, kernel_size=(4, 4),\n",
    "                activation='relu',\n",
    "                input_shape=(28, 28, 1), strides=(4, 4)))\n",
    "model.add(BatchNormalization(axis=-1))\n",
    "model.add(MaxPooling2D(pool_size=(2, 2)))\n",
    "model.add(Flatten())\n",
    "model.add(Dense(128, activation='relu'))\n",
    "model.add(BatchNormalization(axis=-1))\n",
    "model.add(Dense(10, activation='softmax'))\n",
    "\n",
    "model.compile(loss=categorical_crossentropy,\n",
    "          optimizer=Adam(),\n",
    "          metrics=['accuracy'])\n",
    "history2 = train_model(model)"
   ]
  },
  {
   "cell_type": "markdown",
   "metadata": {},
   "source": [
    "### Batch Normalization with Dropout and DenseNet L2 regularization - 95.86/97.10 train/val accuracy"
   ]
  },
  {
   "cell_type": "code",
   "execution_count": 95,
   "metadata": {},
   "outputs": [
    {
     "name": "stderr",
     "output_type": "stream",
     "text": [
      "/home/jasperlu/anaconda3/lib/python3.6/site-packages/ipykernel_launcher.py:13: UserWarning: Update your `Dense` call to the Keras 2 API: `Dense(128, activation=\"relu\", kernel_regularizer=<keras.reg...)`\n",
      "  del sys.path[0]\n"
     ]
    },
    {
     "name": "stdout",
     "output_type": "stream",
     "text": [
      "Train on 60000 samples, validate on 10000 samples\n",
      "Epoch 1/20\n",
      "60000/60000 [==============================] - 32s 528us/step - loss: 1.9129 - acc: 0.7400 - val_loss: 0.3421 - val_acc: 0.9380\n",
      "Epoch 2/20\n",
      "60000/60000 [==============================] - 28s 468us/step - loss: 0.3880 - acc: 0.9020 - val_loss: 0.2136 - val_acc: 0.9528\n",
      "Epoch 3/20\n",
      "60000/60000 [==============================] - 28s 461us/step - loss: 0.3102 - acc: 0.9223 - val_loss: 0.1884 - val_acc: 0.9579\n",
      "Epoch 4/20\n",
      "60000/60000 [==============================] - 28s 464us/step - loss: 0.2758 - acc: 0.9322 - val_loss: 0.1662 - val_acc: 0.9632\n",
      "Epoch 5/20\n",
      "60000/60000 [==============================] - 28s 466us/step - loss: 0.2489 - acc: 0.9386 - val_loss: 0.1604 - val_acc: 0.9644\n",
      "Epoch 6/20\n",
      "60000/60000 [==============================] - 28s 464us/step - loss: 0.2363 - acc: 0.9425 - val_loss: 0.1601 - val_acc: 0.9665\n",
      "Epoch 7/20\n",
      "60000/60000 [==============================] - 28s 460us/step - loss: 0.2305 - acc: 0.9442 - val_loss: 0.1525 - val_acc: 0.9675\n",
      "Epoch 8/20\n",
      "60000/60000 [==============================] - 28s 469us/step - loss: 0.2204 - acc: 0.9465 - val_loss: 0.1440 - val_acc: 0.9697\n",
      "Epoch 9/20\n",
      "60000/60000 [==============================] - 28s 460us/step - loss: 0.2149 - acc: 0.9483 - val_loss: 0.1466 - val_acc: 0.9684\n",
      "Epoch 10/20\n",
      "60000/60000 [==============================] - 28s 463us/step - loss: 0.2113 - acc: 0.9491 - val_loss: 0.1479 - val_acc: 0.9678\n",
      "Epoch 11/20\n",
      "60000/60000 [==============================] - 28s 473us/step - loss: 0.2038 - acc: 0.9505 - val_loss: 0.1399 - val_acc: 0.9687\n",
      "Epoch 12/20\n",
      "60000/60000 [==============================] - 28s 460us/step - loss: 0.2045 - acc: 0.9507 - val_loss: 0.1467 - val_acc: 0.9685\n",
      "Epoch 13/20\n",
      "60000/60000 [==============================] - 27s 457us/step - loss: 0.1945 - acc: 0.9532 - val_loss: 0.1444 - val_acc: 0.9687\n",
      "Epoch 14/20\n",
      "60000/60000 [==============================] - 28s 473us/step - loss: 0.1961 - acc: 0.9532 - val_loss: 0.1357 - val_acc: 0.9712\n",
      "Epoch 15/20\n",
      "60000/60000 [==============================] - 27s 457us/step - loss: 0.1891 - acc: 0.9557 - val_loss: 0.1375 - val_acc: 0.9722\n",
      "Epoch 16/20\n",
      "60000/60000 [==============================] - 26s 430us/step - loss: 0.1885 - acc: 0.9556 - val_loss: 0.1316 - val_acc: 0.9720\n",
      "Epoch 17/20\n",
      "60000/60000 [==============================] - 26s 432us/step - loss: 0.1901 - acc: 0.9552 - val_loss: 0.1279 - val_acc: 0.9732\n",
      "Epoch 18/20\n",
      "60000/60000 [==============================] - 27s 451us/step - loss: 0.1817 - acc: 0.9567 - val_loss: 0.1252 - val_acc: 0.9735\n",
      "Epoch 19/20\n",
      "60000/60000 [==============================] - 25s 424us/step - loss: 0.1835 - acc: 0.9561 - val_loss: 0.1340 - val_acc: 0.9730\n",
      "Epoch 20/20\n",
      "60000/60000 [==============================] - 26s 435us/step - loss: 0.1799 - acc: 0.9586 - val_loss: 0.1361 - val_acc: 0.9710\n"
     ]
    }
   ],
   "source": [
    "model = Sequential()\n",
    "model.add(Conv2D(32, kernel_size=(3, 3),\n",
    "                activation='relu',\n",
    "                input_shape=(28, 28, 1), strides=(3, 3)))\n",
    "model.add(BatchNormalization(axis=-1))\n",
    "model.add(Conv2D(32, kernel_size=(4, 4),\n",
    "                activation='relu',\n",
    "                input_shape=(28, 28, 1), strides=(4, 4)))\n",
    "model.add(BatchNormalization(axis=-1))\n",
    "model.add(MaxPooling2D(pool_size=(2, 2)))\n",
    "model.add(Dropout(0.25))\n",
    "model.add(Flatten())\n",
    "model.add(Dense(128, activation='relu', W_regularizer=l2(0.1)))\n",
    "model.add(BatchNormalization(axis=-1))\n",
    "model.add(Dropout(0.5))\n",
    "model.add(Dense(10, activation='softmax'))\n",
    "\n",
    "model.compile(loss=categorical_crossentropy,\n",
    "          optimizer=Adam(),\n",
    "          metrics=['accuracy'])\n",
    "history3 = train_model(model)"
   ]
  },
  {
   "cell_type": "markdown",
   "metadata": {},
   "source": [
    "| Technique      | Train Accuracy           | Validation Accuracy| Val minus Train |\n",
    "| ------------- |:-------------:| :-----:| ----:|\n",
    "| Dropout    | 92.71 | 95.92 | 3.21 |\n",
    "| L2 Weight Regularization, some batch normalization      | 94.88 |   97.21 | 2.33 |\n",
    "| Full batch normalization | 99.45 |  97.19 | -2.26 |\n",
    "| Batch normalization with dropout | 96.49 | 97.69 | 1.2 |\n",
    "| Batch normalization with dropout and l2 regularization | 95.86 | 97.10 |  1.24 |\n",
    "\n",
    "Over the course of working on this assignment, I've found it pretty interesting that I generally have a better validation accuracy on the problem than I do a training accuracy. It seems that batch normalization with dropout performs the best on our problem. Maybe this is to be expected, since there is a good amount of normalization going on in general there, and perhaps adding in L2 normalization as well is a little \"too much\" normalization. Without dropout, our batch normalized network overfits to the training data very easily, without any real corresponding increase in validation accuracy. Meanwhile, just dropout achieves pretty poor accuracy in general. This tells me taht "
   ]
  },
  {
   "cell_type": "code",
   "execution_count": null,
   "metadata": {},
   "outputs": [],
   "source": [
    "[1295,3060,3916,4689,5249,5788,6219,6447,6738,7355,7308,7780,8045,8185,8413,8683,8776,8983,8776,8989]"
   ]
  }
 ],
 "metadata": {
  "kernelspec": {
   "display_name": "Python 3",
   "language": "python",
   "name": "python3"
  },
  "language_info": {
   "codemirror_mode": {
    "name": "ipython",
    "version": 3
   },
   "file_extension": ".py",
   "mimetype": "text/x-python",
   "name": "python",
   "nbconvert_exporter": "python",
   "pygments_lexer": "ipython3",
   "version": "3.6.4"
  }
 },
 "nbformat": 4,
 "nbformat_minor": 2
}
